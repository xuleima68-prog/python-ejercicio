{
 "cells": [
  {
   "cell_type": "markdown",
   "id": "8bf3d4c9",
   "metadata": {},
   "source": [
    "## Trabajando con la indentación en Python\n",
    "La indentación en Python es muy importante, ya que define bloques de código.\n",
    "Asegúrate de usar espacios o tabulaciones de manera consistente.\n",
    "Por convención, se recomienda usar 4 espacios por nivel de indentación.\n",
    "\n",
    "```def funcion_ejemplo():\n",
    "    print(\"Este es un ejemplo de función con indentación correcta.\")\n",
    "    if True:\n",
    "        print(\"Este es un bloque dentro de una condición.\")\n",
    "    else:\n",
    "        print(\"Este es otro bloque dentro de la condición.\")```\n",
    "        "
   ]
  },
  {
   "cell_type": "markdown",
   "id": "ade3639c",
   "metadata": {},
   "source": [
    "## else en if externo\n",
    "En este ejemplo el código no imprimirá nada"
   ]
  },
  {
   "cell_type": "code",
   "execution_count": 13,
   "id": "1665d2f2",
   "metadata": {},
   "outputs": [
    {
     "name": "stdout",
     "output_type": "stream",
     "text": [
      "B\n"
     ]
    }
   ],
   "source": [
    "x = 3\n",
    "y = -2\n",
    "\n",
    "if x < 0:\n",
    "    if y > 0:\n",
    "        print(\"A\") # para imprimir A se debe de cumplir los dos IF anteriores\n",
    "else:\n",
    "    print(\"B\") # para imprimir B una de los IF debe de ser erroneo "
   ]
  },
  {
   "cell_type": "markdown",
   "id": "f16462c1",
   "metadata": {},
   "source": [
    "En este caso el código imprimirá B"
   ]
  },
  {
   "cell_type": "code",
   "execution_count": 2,
   "id": "208ca7e0",
   "metadata": {},
   "outputs": [],
   "source": [
    "# TODO: Fix the code above so that it prints \"B\""
   ]
  },
  {
   "cell_type": "markdown",
   "id": "7092715d",
   "metadata": {},
   "source": [
    "En este caso el código imprimirá A"
   ]
  },
  {
   "cell_type": "code",
   "execution_count": 3,
   "id": "6ed38a2d",
   "metadata": {},
   "outputs": [],
   "source": [
    "# TODO: Fix the code above so that it prints \"A\""
   ]
  },
  {
   "cell_type": "markdown",
   "id": "75ea8d1f",
   "metadata": {},
   "source": [
    "## else en if interno\n",
    "En este ejemplo el código no imprimirá nada"
   ]
  },
  {
   "cell_type": "code",
   "execution_count": 4,
   "id": "68588879",
   "metadata": {},
   "outputs": [],
   "source": [
    "#TODO: Add an else statement to the inner if condition"
   ]
  },
  {
   "cell_type": "markdown",
   "id": "1061c54d",
   "metadata": {},
   "source": [
    "En este caso el código imprimirá B"
   ]
  },
  {
   "cell_type": "code",
   "execution_count": 5,
   "id": "367dd702",
   "metadata": {},
   "outputs": [],
   "source": [
    "#TODO: Add an else statement to the inner if condition so that it prints \"B\""
   ]
  },
  {
   "cell_type": "markdown",
   "id": "44600d4e",
   "metadata": {},
   "source": [
    "En este caso el código imprimirá A"
   ]
  },
  {
   "cell_type": "code",
   "execution_count": 6,
   "id": "da3f6f78",
   "metadata": {},
   "outputs": [],
   "source": [
    "#TODO: Add an else statement to the inner if condition so that it prints \"A\""
   ]
  },
  {
   "cell_type": "code",
   "execution_count": null,
   "id": "7f52d841",
   "metadata": {},
   "outputs": [
    {
     "name": "stdout",
     "output_type": "stream",
     "text": [
      "A\n"
     ]
    }
   ],
   "source": [
    "x = 3\n",
    "y = -2\n",
    "\n",
    "if x > 0:\n",
    "    if y < 0:\n",
    "        print(\"A\") #para imprimir A en este caso igual debe cumplir los dos if\n",
    "    else:\n",
    "        print(\"B\") # para imprimir B debe de fallar en uno"
   ]
  }
 ],
 "metadata": {
  "kernelspec": {
   "display_name": ".venv",
   "language": "python",
   "name": "python3"
  },
  "language_info": {
   "codemirror_mode": {
    "name": "ipython",
    "version": 3
   },
   "file_extension": ".py",
   "mimetype": "text/x-python",
   "name": "python",
   "nbconvert_exporter": "python",
   "pygments_lexer": "ipython3",
   "version": "3.12.3"
  }
 },
 "nbformat": 4,
 "nbformat_minor": 5
}
