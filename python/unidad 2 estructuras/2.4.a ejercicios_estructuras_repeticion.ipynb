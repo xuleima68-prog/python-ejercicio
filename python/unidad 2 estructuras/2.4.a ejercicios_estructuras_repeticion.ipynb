{
 "cells": [
  {
   "cell_type": "markdown",
   "id": "a68b5f86",
   "metadata": {},
   "source": [
    "# Estructuras de repetición en Python"
   ]
  },
  {
   "cell_type": "markdown",
   "id": "2065ace8",
   "metadata": {},
   "source": [
    "## 1. Bucle `for`\n",
    "\n",
    "El bucle `for` itera sobre una **secuencia** (lista, tupla, cadena, `range`, etc.).  En cada vuelta toma un elemento y ejecuta el bloque indentado."
   ]
  },
  {
   "cell_type": "code",
   "execution_count": null,
   "id": "a708cf10",
   "metadata": {},
   "outputs": [],
   "source": [
    "# Iterar una lista de palabras\n",
    "words = [\"apple\", \"banana\", \"cherry\"]\n",
    "\n",
    "# Recorremos cada palabra: en cada iteración 'word' toma un valor de 'words'\n",
    "for word in words:  # comentario: imprimimos cada elemento\n",
    "    print(word)"
   ]
  },
  {
   "cell_type": "code",
   "execution_count": null,
   "id": "5d337925",
   "metadata": {},
   "outputs": [],
   "source": [
    "# Iterar un rango de números\n",
    "# range(5) produce 0,1,2,3,4\n",
    "for i in range(5):  # comentario: recorre cinco números empezando en 0\n",
    "    print(i)"
   ]
  },
  {
   "cell_type": "code",
   "execution_count": null,
   "id": "aba69342",
   "metadata": {},
   "outputs": [],
   "source": [
    "# Iterar con índice y valor usando enumerate\n",
    "colors = [\"red\", \"green\", \"blue\"]\n",
    "for idx, color in enumerate(colors):  # comentario: enumerate devuelve (indice, valor)\n",
    "    print(idx, color)"
   ]
  },
  {
   "cell_type": "markdown",
   "id": "0df0c038",
   "metadata": {},
   "source": [
    "### Ejercicios — `for`\n",
    "\n",
    "1) Dada la lista `nums = [2, 5, 7, 10, 13]`, imprime cada número al cuadrado.\n",
    "2) Recorre la cadena `s = \"python\"` e imprime solo las consonantes.\n",
    "3) Usa `enumerate` para imprimir `índice: elemento` sobre `cities = [\"Madrid\", \"Sevilla\", \"Valencia\"]`."
   ]
  },
  {
   "cell_type": "code",
   "execution_count": null,
   "id": "b0b1b51b",
   "metadata": {},
   "outputs": [],
   "source": [
    "# === TU CÓDIGO (for) ===\n",
    "nums = [2, 5, 7, 10, 13]\n",
    "# 1) cuadrado de cada número\n",
    "for n in nums:\n",
    "    print(n ** 2)\n",
    "\n",
    "s = \"python\"\n",
    "# 2) imprime solo consonantes\n",
    "for consonants in s:\n",
    "    if consonants not in \"aeiou\":\n",
    "        print(consonants)\n",
    "\n",
    "cities = [\"Madrid\", \"Sevilla\", \"Valencia\"]\n",
    "# 3) usa enumerate para imprimir 'index: item'\n",
    "for idx, city in enumerate(cities):   # el index o idx se usa para no mostrar parenteis ni comas ni comillas ni nada raro\n",
    "    print( idx, city)   #enumerate lo devulve de forma enumerada empezando en 0"
   ]
  },
  {
   "cell_type": "markdown",
   "id": "942b7b04",
   "metadata": {},
   "source": [
    "## 2. Bucle `while`\n",
    "\n",
    "`while` repite el bloque **mientras la condición sea verdadera**.  Úsalo cuando no conoces de antemano cuántas iteraciones harás."
   ]
  },
  {
   "cell_type": "code",
   "execution_count": null,
   "id": "beeca9f9",
   "metadata": {},
   "outputs": [],
   "source": [
    "# Contador simple con while\n",
    "count = 0\n",
    "while count < 3:  # comentario: repetimos mientras count < 3\n",
    "    print(\"Hello\")\n",
    "    count += 1"
   ]
  },
  {
   "cell_type": "code",
   "execution_count": null,
   "id": "42370128",
   "metadata": {},
   "outputs": [],
   "source": [
    "# Leer hasta obtener un número mayor que 10 (simulado)\n",
    "# Nota: en notebooks no usamos input() por comodidad\n",
    "values = [3, 7, 12, 8]  # comentario: simulamos entradas del usuario\n",
    "idx = 0\n",
    "while True:  # comentario: bucle potencialmente infinito, romperemos con break\n",
    "    current = values[idx]\n",
    "    print(\"value:\", current)\n",
    "    if current > 10:\n",
    "        print(\"Stop: greater than 10\")\n",
    "        break  # comentario: salimos del bucle\n",
    "    idx += 1"
   ]
  },
  {
   "cell_type": "markdown",
   "id": "a96cf109",
   "metadata": {},
   "source": [
    "### Ejercicios — `while`\n",
    "\n",
    "1) Usa `while` para sumar los enteros de 1 a 100 en la variable `total`.\n",
    "2) Dada `arr = [4, 4, 2, 9, 9, 9, 1]`, usa `while` para contar cuántos `9` consecutivos hay desde el primer `9`."
   ]
  },
  {
   "cell_type": "code",
   "execution_count": 8,
   "id": "c9f975bc",
   "metadata": {},
   "outputs": [
    {
     "name": "stdout",
     "output_type": "stream",
     "text": [
      "5050\n",
      "3\n"
     ]
    }
   ],
   "source": [
    "# === TU CÓDIGO (while) ===\n",
    "# 1) suma 1..100 en 'total'\n",
    "total = 0\n",
    "idx = 1\n",
    "while idx <= 100:\n",
    "    total += idx\n",
    "    idx += 1\n",
    "print(total)   \n",
    "\n",
    "arr = [4, 4, 2, 9, 9, 9, 1]\n",
    "# 2) cuenta cuántos 9 consecutivos hay desde el primer 9\n",
    "count = 0\n",
    "idx = 0\n",
    "# buscamos el primer 9\n",
    "while idx < len(arr) and arr[idx] != 9:\n",
    "    idx += 1  \n",
    "# contamos los 9 consecutivos\n",
    "while idx < len(arr) and arr[idx] == 9:\n",
    "    count += 1\n",
    "    idx += 1\n",
    "print(count)  "
   ]
  },
  {
   "cell_type": "markdown",
   "id": "14156685",
   "metadata": {},
   "source": [
    "## 3. `else` en bucles\n",
    "\n",
    "Tanto en `for` como en `while`, el bloque `else` se ejecuta **solo si el bucle termina de forma natural** (sin `break`)."
   ]
  },
  {
   "cell_type": "code",
   "execution_count": 11,
   "id": "e81fc2ef",
   "metadata": {},
   "outputs": [
    {
     "name": "stdout",
     "output_type": "stream",
     "text": [
      "0\n",
      "1\n",
      "2\n",
      "Loop finished without break\n"
     ]
    }
   ],
   "source": [
    "# for-else: no hay break -> else se ejecuta\n",
    "for i in range(3):\n",
    "    print(i)\n",
    "else:  # comentario: este else se ejecuta porque no hubo break\n",
    "    print(\"Loop finished without break\")"
   ]
  },
  {
   "cell_type": "code",
   "execution_count": 12,
   "id": "100811f3",
   "metadata": {},
   "outputs": [
    {
     "name": "stdout",
     "output_type": "stream",
     "text": [
      "0\n",
      "1\n",
      "2\n",
      "3\n"
     ]
    }
   ],
   "source": [
    "# for-else con break: el else NO se ejecuta\n",
    "for i in range(10):\n",
    "    if i == 4:\n",
    "        break  # comentario: rompemos el bucle\n",
    "    print(i)\n",
    "else:\n",
    "    print(\"This will NOT run\")"
   ]
  },
  {
   "cell_type": "markdown",
   "id": "573d9f71",
   "metadata": {},
   "source": [
    "## 4. `break`, `continue`, `pass`\n",
    "\n",
    "- `break`: sale del bucle inmediatamente.\n",
    "- `continue`: salta a la siguiente iteración.\n",
    "- `pass`: no hace nada; marcador de posición para bloques vacíos."
   ]
  },
  {
   "cell_type": "code",
   "execution_count": null,
   "id": "1ca7e118",
   "metadata": {},
   "outputs": [],
   "source": [
    "# break: parar al encontrar 'h'\n",
    "for ch in \"python\":\n",
    "    if ch == \"h\":  # comentario: condición de parada\n",
    "        break\n",
    "    print(ch)"
   ]
  },
  {
   "cell_type": "code",
   "execution_count": null,
   "id": "ab3b7613",
   "metadata": {},
   "outputs": [],
   "source": [
    "# continue: omitir vocales\n",
    "vowels = set(\"aeiou\")\n",
    "for ch in \"geeksforgeeks\":\n",
    "    if ch in vowels:  # comentario: saltar vocales\n",
    "        continue\n",
    "    print(\"Current:\", ch)"
   ]
  },
  {
   "cell_type": "code",
   "execution_count": null,
   "id": "b3e78d44",
   "metadata": {},
   "outputs": [],
   "source": [
    "# pass: marcador de no-acción\n",
    "for _ in \"abc\":\n",
    "    pass  # comentario: bloque intencionalmente vacío\n",
    "print(\"Done\")"
   ]
  },
  {
   "cell_type": "markdown",
   "id": "f0e17187",
   "metadata": {},
   "source": [
    "### Ejercicios — control de flujo\n",
    "\n",
    "1) Imprime números del 1 al 15, saltando múltiplos de 4 con `continue`.\n",
    "2) Recorre `range(100)` e imprime hasta llegar a `42`, momento en el que debes parar con `break`.\n",
    "3) Escribe un bucle que cuente cuántas letras no alfabéticas hay en `txt = \"Hi! #2025?\"`."
   ]
  },
  {
   "cell_type": "code",
   "execution_count": null,
   "id": "69b7cfc3",
   "metadata": {},
   "outputs": [],
   "source": [
    "# === TU CÓDIGO (control de flujo) ===\n",
    "# 1)\n",
    "\n",
    "# 2)\n",
    "\n",
    "# 3)"
   ]
  },
  {
   "cell_type": "markdown",
   "id": "65103df1",
   "metadata": {},
   "source": [
    "## 5. Bucles anidados (nested loops)\n",
    "\n",
    "Un bucle puede estar dentro de otro. Úsalos cuando necesites combinar iteraciones (p. ej., filas y columnas)."
   ]
  },
  {
   "cell_type": "code",
   "execution_count": null,
   "id": "9d05a53a",
   "metadata": {},
   "outputs": [],
   "source": [
    "# Triángulo de números: i en filas, repetir i veces por fila\n",
    "for i in range(1, 5):\n",
    "    for j in range(i):  # comentario: imprime 'i' 'i' veces\n",
    "        print(i, end=\" \")\n",
    "    print()"
   ]
  },
  {
   "cell_type": "code",
   "execution_count": null,
   "id": "cdfaf195",
   "metadata": {},
   "outputs": [],
   "source": [
    "# Tabla de multiplicar 1..5\n",
    "for a in range(1, 6):\n",
    "    row = []\n",
    "    for b in range(1, 6):\n",
    "        row.append(a*b)  # comentario: producto fila-columna\n",
    "    print(row)"
   ]
  },
  {
   "cell_type": "markdown",
   "id": "f6e65921",
   "metadata": {},
   "source": [
    "### Ejercicios — bucles anidados\n",
    "\n",
    "1) Imprime una cuadrícula 3x3 con `#` usando dos bucles `for`.\n",
    "2) Dadas dos listas `A` y `B`, imprime todos los pares `(a,b)`."
   ]
  },
  {
   "cell_type": "code",
   "execution_count": null,
   "id": "816d98ec",
   "metadata": {},
   "outputs": [],
   "source": [
    "# === TU CÓDIGO (nested) ===\n",
    "# 1)\n",
    "\n",
    "A = [1, 2]\n",
    "B = [\"x\", \"y\"]\n",
    "# 2)"
   ]
  },
  {
   "cell_type": "markdown",
   "id": "266bf453",
   "metadata": {},
   "source": [
    "## 6. (Extra) Comprensiones\n",
    "\n",
    "Las comprensiones (`list`, `set`, `dict`) son formas compactas de construir colecciones con bucles y filtros."
   ]
  },
  {
   "cell_type": "code",
   "execution_count": null,
   "id": "87ac4bb0",
   "metadata": {},
   "outputs": [],
   "source": [
    "# Lista de cuadrados de números pares del 0 al 10\n",
    "squares = [n*n for n in range(11) if n % 2 == 0]  # comentario: comprensión de lista\n",
    "print(squares)"
   ]
  },
  {
   "cell_type": "code",
   "execution_count": null,
   "id": "b3e59413",
   "metadata": {},
   "outputs": [],
   "source": [
    "# Diccionario de número -> cuadrado para 1..5\n",
    "square_map = {n: n*n for n in range(1, 6)}  # comentario: comprensión de diccionario\n",
    "print(square_map)"
   ]
  }
 ],
 "metadata": {
  "kernelspec": {
   "display_name": ".venv",
   "language": "python",
   "name": "python3"
  },
  "language_info": {
   "codemirror_mode": {
    "name": "ipython",
    "version": 3
   },
   "file_extension": ".py",
   "mimetype": "text/x-python",
   "name": "python",
   "nbconvert_exporter": "python",
   "pygments_lexer": "ipython3",
   "version": "3.12.3"
  }
 },
 "nbformat": 4,
 "nbformat_minor": 5
}
