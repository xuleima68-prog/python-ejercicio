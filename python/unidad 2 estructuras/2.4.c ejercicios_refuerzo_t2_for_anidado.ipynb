{
 "cells": [
  {
   "cell_type": "markdown",
   "metadata": {},
   "source": [
    "### 🐍 Ejercicios de bucles anidados\n",
    "\n",
    "Bucles (`for`, `while`, `break`, `continue`, `pass`)."
   ]
  },
  {
   "cell_type": "markdown",
   "metadata": {},
   "source": [
    "#### Ejercicio 1: Iterar usando `for` y `range()`\n",
    "Imprime los números del 0 al 4 (ambos inclusive)."
   ]
  },
  {
   "cell_type": "code",
   "execution_count": 5,
   "id": "b3860d86",
   "metadata": {},
   "outputs": [],
   "source": [
    "# Solución\n",
    "resultado = \"\"\n",
    "for i in range(0,5):\n",
    "    resultado += str(i) + \" \""
   ]
  },
  {
   "cell_type": "code",
   "execution_count": 6,
   "id": "5626adde",
   "metadata": {},
   "outputs": [
    {
     "name": "stdout",
     "output_type": "stream",
     "text": [
      "✅ Test pasado correctamente\n"
     ]
    }
   ],
   "source": [
    "# Test\n",
    "assert resultado.strip() == \"0 1 2 3 4\"\n",
    "print(\"✅ Test pasado correctamente\")"
   ]
  },
  {
   "cell_type": "markdown",
   "id": "155e5440",
   "metadata": {},
   "source": [
    "### Despliega para ver la solución"
   ]
  },
  {
   "cell_type": "code",
   "execution_count": null,
   "metadata": {},
   "outputs": [],
   "source": [
    "# Solución sugerida\n",
    "resultado = \"\"\n",
    "for i in range(0, 5):\n",
    "    resultado += str(i) + \" \"\n",
    "print(resultado)"
   ]
  },
  {
   "cell_type": "markdown",
   "metadata": {},
   "source": [
    "## Ejercicio 2: Iterar sobre elementos de una secuencia\n",
    "Dada la secuencia de caracteres `palabra = 'abc'`, imprime cada uno en mayúscula."
   ]
  },
  {
   "cell_type": "code",
   "execution_count": 7,
   "id": "547c0255",
   "metadata": {},
   "outputs": [],
   "source": [
    "# Solución\n",
    "palabra = \"abc\"\n",
    "resultado = palabra.upper()"
   ]
  },
  {
   "cell_type": "code",
   "execution_count": 8,
   "id": "a169e5ab",
   "metadata": {},
   "outputs": [
    {
     "name": "stdout",
     "output_type": "stream",
     "text": [
      "✅ Test pasado correctamente\n"
     ]
    }
   ],
   "source": [
    "# Test\n",
    "assert resultado == 'ABC'\n",
    "print(\"✅ Test pasado correctamente\")"
   ]
  },
  {
   "cell_type": "markdown",
   "id": "2e5849aa",
   "metadata": {},
   "source": [
    "### Despliega para ver la solución"
   ]
  },
  {
   "cell_type": "code",
   "execution_count": null,
   "metadata": {},
   "outputs": [],
   "source": [
    "# Solución sugerida\n",
    "palabra = 'abc'\n",
    "resultado = \"\"\n",
    "for letra in palabra:\n",
    "    resultado += letra.upper()\n",
    "print(resultado)"
   ]
  },
  {
   "cell_type": "markdown",
   "metadata": {},
   "source": [
    "## Ejercicio 3: Uso de `while`\n",
    "Imprime \"Hola\" tres veces usando un bucle `while`."
   ]
  },
  {
   "cell_type": "code",
   "execution_count": null,
   "metadata": {},
   "outputs": [],
   "source": [
    "# Solución "
   ]
  },
  {
   "cell_type": "code",
   "execution_count": null,
   "metadata": {},
   "outputs": [],
   "source": [
    "# Test\n",
    "assert resultado.strip() == 'Hola Hola Hola'\n",
    "print(\"✅ Test pasado correctamente\")"
   ]
  },
  {
   "cell_type": "markdown",
   "id": "3112ae07",
   "metadata": {},
   "source": [
    "### Despliega para ver la solución"
   ]
  },
  {
   "cell_type": "code",
   "execution_count": null,
   "id": "19346dd5",
   "metadata": {},
   "outputs": [],
   "source": [
    "# Solución sugerida\n",
    "contador = 0\n",
    "resultado = \"\"\n",
    "while contador < 3:\n",
    "    resultado += \"Hola \"\n",
    "    contador += 1\n",
    "print(resultado)"
   ]
  },
  {
   "cell_type": "markdown",
   "metadata": {},
   "source": [
    "## Ejercicio 4: Bucle anidado\n",
    "Usando bucles anidados, imprime:\n",
    "```\n",
    "1\n",
    "2 2\n",
    "3 3 3\n",
    "4 4 4 4\n",
    "```"
   ]
  },
  {
   "cell_type": "code",
   "execution_count": null,
   "metadata": {},
   "outputs": [],
   "source": [
    "# Solución "
   ]
  },
  {
   "cell_type": "code",
   "execution_count": null,
   "id": "fe57ce35",
   "metadata": {},
   "outputs": [],
   "source": [
    "# Test\n",
    "esperado = \"1 \\n2 2 \\n3 3 3 \\n4 4 4 4 \\n\"\n",
    "assert resultado == esperado\n",
    "print(\"✅ Test pasado correctamente\")"
   ]
  },
  {
   "cell_type": "markdown",
   "id": "08641686",
   "metadata": {},
   "source": [
    "### Despliega para ver la solución"
   ]
  },
  {
   "cell_type": "code",
   "execution_count": null,
   "id": "7c0238c9",
   "metadata": {},
   "outputs": [],
   "source": [
    "# Solución sugerida\n",
    "resultado = \"\"\n",
    "for i in range(1, 5):\n",
    "    for j in range(i):\n",
    "        resultado += str(i) + ' '\n",
    "    resultado = resultado + '\\n'\n",
    "print(resultado)"
   ]
  },
  {
   "cell_type": "markdown",
   "metadata": {},
   "source": [
    "## Ejercicio 5: Control de bucle (`break`, `continue`)\n",
    "Dado el texto `'geeksforgeeks'`, imprime los caracteres hasta que aparezca `'f'`, \n",
    "saltando las `'e'` y `'s'`. Utiliza un for y dentro del for `continue` y `break`"
   ]
  },
  {
   "cell_type": "code",
   "execution_count": null,
   "metadata": {},
   "outputs": [],
   "source": [
    "# Solución"
   ]
  },
  {
   "cell_type": "code",
   "execution_count": null,
   "metadata": {},
   "outputs": [],
   "source": [
    "# Test\n",
    "assert resultado == 'gk'\n",
    "print(\"✅ Test pasado correctamente\")"
   ]
  },
  {
   "cell_type": "markdown",
   "id": "ffb2ed17",
   "metadata": {},
   "source": [
    "### Despliega para ver la solución"
   ]
  },
  {
   "cell_type": "code",
   "execution_count": null,
   "id": "d1769992",
   "metadata": {},
   "outputs": [],
   "source": [
    "# Solución sugerida\n",
    "texto = 'geeksforgeeks'\n",
    "resultado = \"\"\n",
    "for letter in texto:\n",
    "    if letter == 'e' or letter == 's':\n",
    "        continue\n",
    "    if letter == 'f':\n",
    "        break\n",
    "    resultado += letter\n",
    "print(resultado)"
   ]
  },
  {
   "cell_type": "markdown",
   "metadata": {},
   "source": [
    "## Ejercicio 6: Uso de `pass`\n",
    "Itera por `palabra = 'python'` sin hacer nada dentro del bucle.\n",
    "Después, imprime el último carácter."
   ]
  },
  {
   "cell_type": "code",
   "execution_count": null,
   "metadata": {},
   "outputs": [],
   "source": [
    "# Solución"
   ]
  },
  {
   "cell_type": "code",
   "execution_count": null,
   "metadata": {},
   "outputs": [],
   "source": [
    "# Test\n",
    "assert ultimo == 'n'\n",
    "print(\"✅ Test pasado correctamente\")"
   ]
  },
  {
   "cell_type": "markdown",
   "id": "5497f685",
   "metadata": {},
   "source": [
    "### Despliega para ver el resultado\n",
    "\n"
   ]
  },
  {
   "cell_type": "code",
   "execution_count": null,
   "id": "2b799cd4",
   "metadata": {},
   "outputs": [],
   "source": [
    "# Solución sugerida\n",
    "palabra = 'python'\n",
    "for letra in palabra:\n",
    "    pass\n",
    "ultimo = letra\n",
    "print(\"Último carácter:\", ultimo)"
   ]
  }
 ],
 "metadata": {
  "kernelspec": {
   "display_name": ".venv",
   "language": "python",
   "name": "python3"
  },
  "language_info": {
   "codemirror_mode": {
    "name": "ipython",
    "version": 3
   },
   "file_extension": ".py",
   "mimetype": "text/x-python",
   "name": "python",
   "nbconvert_exporter": "python",
   "pygments_lexer": "ipython3",
   "version": "3.12.3"
  }
 },
 "nbformat": 4,
 "nbformat_minor": 5
}
