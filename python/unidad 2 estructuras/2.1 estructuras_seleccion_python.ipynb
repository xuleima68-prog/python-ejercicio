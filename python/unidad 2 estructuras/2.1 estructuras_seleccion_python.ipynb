{
 "cells": [
  {
   "cell_type": "markdown",
   "id": "977bf753",
   "metadata": {},
   "source": [
    "### 🧩 Estructuras de selección en Python\n",
    "En este cuaderno aprenderás y practicarás las **estructuras de selección** (`if`, `elif`, `else`)."
   ]
  },
  {
   "cell_type": "markdown",
   "id": "3b8dd01e",
   "metadata": {},
   "source": [
    "#### 🔹 ¿Qué son?\n",
    "Las estructuras de selección en Python permiten **tomar decisiones** en el programa según se cumplan o no ciertas condiciones.\n",
    "Se basan en **condicionales** (`if`, `elif`, `else`).\n",
    "\n",
    "👉 El programa **elige un camino u otro** dependiendo de la condición."
   ]
  },
  {
   "cell_type": "markdown",
   "id": "081e197d",
   "metadata": {},
   "source": [
    "### 1️⃣ `if` simple"
   ]
  },
  {
   "cell_type": "markdown",
   "id": "7d5c9b29",
   "metadata": {},
   "source": [
    "Ejecuta un bloque de código **solo si la condición es verdadera**."
   ]
  },
  {
   "cell_type": "code",
   "execution_count": 1,
   "id": "8e78d0c2",
   "metadata": {},
   "outputs": [
    {
     "name": "stdout",
     "output_type": "stream",
     "text": [
      "Eres mayor de edad\n"
     ]
    }
   ],
   "source": [
    "age = 18\n",
    "\n",
    "# Si la edad es mayor o igual a 18, imprime el mensaje\n",
    "if age >= 18:\n",
    "    print(\"Eres mayor de edad\")"
   ]
  },
  {
   "cell_type": "markdown",
   "id": "c43987aa",
   "metadata": {},
   "source": [
    "### 2️⃣ `if – else`"
   ]
  },
  {
   "cell_type": "markdown",
   "id": "6222dcce",
   "metadata": {},
   "source": [
    "Permite elegir entre **dos opciones**: una cuando la condición es verdadera y otra cuando es falsa."
   ]
  },
  {
   "cell_type": "code",
   "execution_count": 2,
   "id": "bcc47033",
   "metadata": {},
   "outputs": [
    {
     "name": "stdout",
     "output_type": "stream",
     "text": [
      "Hace frío\n"
     ]
    }
   ],
   "source": [
    "temperature = 12\n",
    "\n",
    "if temperature >= 20:\n",
    "    print(\"Hace calor\")\n",
    "else:\n",
    "    print(\"Hace frío\")"
   ]
  },
  {
   "cell_type": "markdown",
   "id": "a56b3f57",
   "metadata": {},
   "source": [
    "### 3️⃣ `if – elif – else`"
   ]
  },
  {
   "cell_type": "markdown",
   "id": "2f58f7ca",
   "metadata": {},
   "source": [
    "Permite evaluar **varias condiciones** de forma ordenada. El programa ejecuta **solo la primera condición verdadera**."
   ]
  },
  {
   "cell_type": "code",
   "execution_count": 3,
   "id": "6b41d811",
   "metadata": {},
   "outputs": [
    {
     "name": "stdout",
     "output_type": "stream",
     "text": [
      "Notable\n"
     ]
    }
   ],
   "source": [
    "score = 8\n",
    "\n",
    "if score >= 9:\n",
    "    print(\"Sobresaliente\")\n",
    "elif score >= 7:\n",
    "    print(\"Notable\")\n",
    "elif score >= 5:\n",
    "    print(\"Suficiente\")\n",
    "else:\n",
    "    print(\"Suspenso\")"
   ]
  },
  {
   "cell_type": "markdown",
   "id": "0b730b57",
   "metadata": {},
   "source": [
    "### 4️⃣ Condicionales anidados"
   ]
  },
  {
   "cell_type": "markdown",
   "id": "b1dd7753",
   "metadata": {},
   "source": [
    "Un `if` dentro de otro. Se usan para decisiones más complejas."
   ]
  },
  {
   "cell_type": "code",
   "execution_count": 4,
   "id": "fd4c7280",
   "metadata": {},
   "outputs": [
    {
     "name": "stdout",
     "output_type": "stream",
     "text": [
      "Acceso permitido\n"
     ]
    }
   ],
   "source": [
    "user = \"admin\"\n",
    "password = \"1234\"\n",
    "\n",
    "if user == \"admin\":\n",
    "    if password == \"1234\":\n",
    "        print(\"Acceso permitido\")\n",
    "    else:\n",
    "        print(\"Contraseña incorrecta\")\n",
    "else:\n",
    "    print(\"Usuario no válido\")"
   ]
  },
  {
   "cell_type": "markdown",
   "id": "5040fb48",
   "metadata": {},
   "source": [
    "### 📝 Ejercicio 1"
   ]
  },
  {
   "cell_type": "markdown",
   "id": "51cc9f92",
   "metadata": {},
   "source": [
    "Escribe un programa que pida un número y diga:\n",
    "- `\"Positivo\"` si es mayor que 0  \n",
    "- `\"Negativo\"` si es menor que 0  \n",
    "- `\"Cero\"` si es igual a 0  \n",
    "\n",
    "👉 Escribe tu solución abajo:"
   ]
  },
  {
   "cell_type": "code",
   "execution_count": 9,
   "id": "5d4ba647",
   "metadata": {},
   "outputs": [
    {
     "name": "stdout",
     "output_type": "stream",
     "text": [
      "Cero\n"
     ]
    }
   ],
   "source": [
    "# Escribe aquí tu solución\n",
    "number = 0  # puedes cambiarlo para probar\n",
    "\n",
    "# TODO: implementar la lógica con if / elif / else\n",
    "if number > 0:\n",
    "    print(\"Positivo\")\n",
    "elif number < 0:\n",
    "    print(\"Negativo\")\n",
    "else:\n",
    "    print(\"Cero\")"
   ]
  },
  {
   "cell_type": "code",
   "execution_count": 6,
   "id": "66966429",
   "metadata": {},
   "outputs": [
    {
     "name": "stderr",
     "output_type": "stream",
     "text": [
      "...\n",
      "----------------------------------------------------------------------\n",
      "Ran 3 tests in 0.002s\n",
      "\n",
      "OK\n"
     ]
    },
    {
     "data": {
      "text/plain": [
       "<unittest.main.TestProgram at 0x7653cc61af60>"
      ]
     },
     "execution_count": 6,
     "metadata": {},
     "output_type": "execute_result"
    }
   ],
   "source": [
    "# ✅ Test unitario para el ejercicio del número positivo/negativo/cero. Dale al play para ejecutarlo.\n",
    "# La ejecución del test no modifica tu código, solo verifica que funciona correctamente. Debe ser OK si tu código es correcto.\n",
    "\n",
    "import unittest\n",
    "\n",
    "# Versión en función para poder probar fácilmente\n",
    "def classify_number(number):\n",
    "    if number > 0:\n",
    "        return \"Positivo\"\n",
    "    elif number < 0:\n",
    "        return \"Negativo\"\n",
    "    else:\n",
    "        return \"Cero\"\n",
    "\n",
    "class TestClassifyNumber(unittest.TestCase):\n",
    "    def test_positive(self):\n",
    "        self.assertEqual(classify_number(10), \"Positivo\")  # assertEqual verifica que el primer valor es igual al segundo\n",
    "        self.assertEqual(classify_number(1), \"Positivo\")   # que el numeor de assertEqual sea el mismo que el esperado\n",
    "\n",
    "    def test_negative(self):\n",
    "        self.assertEqual(classify_number(-5), \"Negativo\")\n",
    "        self.assertEqual(classify_number(-1), \"Negativo\")\n",
    "\n",
    "    def test_zero(self):\n",
    "        self.assertEqual(classify_number(0), \"Cero\")\n",
    "\n",
    "# Ejecutar los tests\n",
    "unittest.main(argv=[''], exit=False)\n"
   ]
  },
  {
   "cell_type": "markdown",
   "id": "959c1209",
   "metadata": {},
   "source": [
    "## 📘 Ejercicio 2\n",
    "Crea una función en Python llamada `grade_classifier(score)` que reciba una nota numérica (0–10) y devuelva una cadena con la calificación correspondiente:\n",
    "\n",
    "- **0–4** → `\"Suspenso\"`\n",
    "- **5–6** → `\"Suficiente\"`\n",
    "- **7–8** → `\"Notable\"`\n",
    "- **9–10** → `\"Sobresaliente\"`\n",
    "\n",
    "Si la nota está fuera de este rango, la función debe devolver `\"Nota no válida\"`."
   ]
  },
  {
   "cell_type": "markdown",
   "id": "2d67c253",
   "metadata": {},
   "source": [
    "### ✏️ Tu solución"
   ]
  },
  {
   "cell_type": "code",
   "execution_count": 3,
   "id": "de599565",
   "metadata": {},
   "outputs": [],
   "source": [
    "# Completa la función usando if / elif / else\n",
    "def grade_classifier(score):\n",
    "    if score >= 0 and score < 5:\n",
    "        return \"Suspenso\"\n",
    "    elif score >= 5 and score < 7:\n",
    "        return \"Suficiente\"\n",
    "    elif score >= 7 and score < 9:\n",
    "        return \"Notable\"\n",
    "    elif score >= 9 and score <= 10:\n",
    "        return \"Sobresaliente\"\n",
    "    else : \n",
    "        return \"Nota no válida\"\n"
   ]
  },
  {
   "cell_type": "markdown",
   "id": "db3c118c",
   "metadata": {},
   "source": [
    "### ✅ Test unitario\n",
    "Ejecuta esta celda para comprobar automáticamente si tu solución es correcta."
   ]
  },
  {
   "cell_type": "code",
   "execution_count": 4,
   "id": "a0563f3b",
   "metadata": {},
   "outputs": [
    {
     "name": "stderr",
     "output_type": "stream",
     "text": [
      ".....\n",
      "----------------------------------------------------------------------\n",
      "Ran 5 tests in 0.003s\n",
      "\n",
      "OK\n"
     ]
    },
    {
     "data": {
      "text/plain": [
       "<unittest.main.TestProgram at 0x70cbf2d58bc0>"
      ]
     },
     "execution_count": 4,
     "metadata": {},
     "output_type": "execute_result"
    }
   ],
   "source": [
    "import unittest\n",
    "\n",
    "class TestGradeClassifier(unittest.TestCase):\n",
    "    def test_fail(self):\n",
    "        self.assertEqual(grade_classifier(3), \"Suspenso\")\n",
    "    \n",
    "    def test_pass(self):\n",
    "        self.assertEqual(grade_classifier(5), \"Suficiente\")\n",
    "        self.assertEqual(grade_classifier(6), \"Suficiente\")\n",
    "    \n",
    "    def test_notable(self):\n",
    "        self.assertEqual(grade_classifier(7), \"Notable\")\n",
    "        self.assertEqual(grade_classifier(8), \"Notable\")\n",
    "    \n",
    "    def test_excellent(self):\n",
    "        self.assertEqual(grade_classifier(9), \"Sobresaliente\")\n",
    "        self.assertEqual(grade_classifier(10), \"Sobresaliente\")\n",
    "    \n",
    "    def test_invalid(self):\n",
    "        self.assertEqual(grade_classifier(-1), \"Nota no válida\")\n",
    "        self.assertEqual(grade_classifier(11), \"Nota no válida\")\n",
    "\n",
    "# Ejecutar los tests\n",
    "unittest.main(argv=[''], exit=False)"
   ]
  }
 ],
 "metadata": {
  "kernelspec": {
   "display_name": ".venv",
   "language": "python",
   "name": "python3"
  },
  "language_info": {
   "codemirror_mode": {
    "name": "ipython",
    "version": 3
   },
   "file_extension": ".py",
   "mimetype": "text/x-python",
   "name": "python",
   "nbconvert_exporter": "python",
   "pygments_lexer": "ipython3",
   "version": "3.12.3"
  }
 },
 "nbformat": 4,
 "nbformat_minor": 5
}
