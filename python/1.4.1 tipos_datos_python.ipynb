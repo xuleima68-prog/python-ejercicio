{
 "cells": [
  {
   "cell_type": "markdown",
   "id": "dc179382",
   "metadata": {},
   "source": [
    "# Tipos de datos en Python\n",
    "\n",
    "**Objetivo:** comprender los tipos de datos fundamentales de Python y practicar con ejemplos.\n",
    "\n",
    "**Contenido:** numéricos (`int`, `float`, `complex`), secuencias (`str`, `list`, `tuple`), booleanos (`bool`), conjuntos (`set`, `frozenset`), mapeos (`dict`) y tipos binarios (`bytes`, `bytearray`, `memoryview`)."
   ]
  },
  {
   "cell_type": "markdown",
   "id": "aa614eb1",
   "metadata": {},
   "source": [
    "## ¿Qué es un tipo de dato?\n",
    "Un **tipo de dato** describe qué clase de valores puede almacenar una variable y qué operaciones se pueden realizar. En Python *todo es un objeto*, por lo que cada valor pertenece a una clase (tipo) y expone métodos/operaciones propias.\n",
    "\n",
    "Puedes consultar el tipo de cualquier valor con `type(valor)`."
   ]
  },
  {
   "cell_type": "code",
   "execution_count": 1,
   "id": "8f71d4d7",
   "metadata": {},
   "outputs": [
    {
     "name": "stdout",
     "output_type": "stream",
     "text": [
      "<class 'int'>\n",
      "<class 'float'>\n",
      "<class 'str'>\n",
      "<class 'list'>\n",
      "<class 'dict'>\n"
     ]
    }
   ],
   "source": [
    "# Ejemplo rápido de type()\n",
    "print(type(42))        # int\n",
    "print(type(3.14))      # float\n",
    "print(type('hola'))    # str\n",
    "print(type([1,2,3]))   # list\n",
    "print(type({'x': 1}))  # dict"
   ]
  },
  {
   "cell_type": "markdown",
   "id": "8361aa79",
   "metadata": {},
   "source": [
    "## 1. Tipos numéricos: `int`, `float`, `complex`\n",
    "- `int`: números enteros (positivos, negativos, cero).\n",
    "- `float`: números en coma flotante (decimales).\n",
    "- `complex`: números complejos `a + bj` (útiles en cálculo científico)."
   ]
  },
  {
   "cell_type": "code",
   "execution_count": 2,
   "id": "6d4f7b8d",
   "metadata": {},
   "outputs": [
    {
     "name": "stdout",
     "output_type": "stream",
     "text": [
      "-3\n",
      "5.0\n",
      "(3-4j)\n"
     ]
    }
   ],
   "source": [
    "# Ejemplos numéricos\n",
    "a = 7              # int\n",
    "b = 2.5            # float\n",
    "c = -10            # int negativo\n",
    "z = 3 + 4j         # complex\n",
    "\n",
    "print(a + c)       # suma de enteros\n",
    "print(b * 2)       # multiplicación con float\n",
    "print(z.conjugate())  # operaciones de complejos\n"
   ]
  },
  {
   "cell_type": "markdown",
   "id": "cd22047f",
   "metadata": {},
   "source": [
    "## 2. Secuencias – `str` (cadenas de texto)\n",
    "Las **cadenas** almacenan texto. Se definen con comillas simples `'...'`, dobles `\"...\"` o triples `\"\"\"...\"\"\"` para múltiples líneas.\n",
    "\n",
    "Las cadenas son **inmutables**: no puedes cambiar un carácter por índice, pero sí crear nuevas cadenas."
   ]
  },
  {
   "cell_type": "code",
   "execution_count": 9,
   "id": "10098f4e",
   "metadata": {},
   "outputs": [
    {
     "name": "stdout",
     "output_type": "stream",
     "text": [
      "H P\n",
      "8\n",
      "HOLA, FP\n",
      "Hola, Informática\n",
      "Hola en\n",
      "dos líneas \n",
      "      \n"
     ]
    }
   ],
   "source": [
    "# Ejemplos con str\n",
    "s = \"Hola, FP\"\n",
    "print(s[0], s[-1])  # índice 0 e índice negativo\n",
    "print(len(s))       # longitud de la cadena\n",
    "print(s.upper())    # mayúsculas\n",
    "print(s.replace(\"FP\", \"Informática\"))  # nueva cadena\n",
    "print(\"\"\"Hola en\n",
    "dos líneas \n",
    "      \"\"\")  # cadena multilínea"
   ]
  },
  {
   "cell_type": "markdown",
   "id": "43bd289b",
   "metadata": {},
   "source": [
    "## 3. Secuencias – `list` y `tuple`\n",
    "- `list`: **mutable**, ordenada, admite elementos de distintos tipos.\n",
    "- `tuple`: **inmutable**, ordenada.\n",
    "\n",
    "Las listas permiten añadir, quitar o modificar elementos; las tuplas no."
   ]
  },
  {
   "cell_type": "code",
   "execution_count": 13,
   "id": "00ffc5bc",
   "metadata": {},
   "outputs": [
    {
     "name": "stdout",
     "output_type": "stream",
     "text": [
      "[1, 'dos', 3.0]\n",
      "[99, 1, 'dos', 3.0, 4]\n",
      "20\n"
     ]
    }
   ],
   "source": [
    "# Ejemplos de list y tuple\n",
    "l = [1, \"dos\", 3.0]\n",
    "l.append(4)\n",
    "l.insert(0, \"nuevo\")\n",
    "print(l[1:4])      # slicing\n",
    "l[0] = 99\n",
    "print(l)\n",
    "\n",
    "t = (10, 20, 30)\n",
    "print(t[1])\n",
    "# t[1] = 200  # Descomenta para ver el error: las tuplas son inmutables"
   ]
  },
  {
   "cell_type": "markdown",
   "id": "1577d338",
   "metadata": {},
   "source": [
    "## 4. Booleanos – `bool`\n",
    "Solo hay dos valores: `True` y `False`. Se usan en comparaciones y control de flujo."
   ]
  },
  {
   "cell_type": "code",
   "execution_count": 15,
   "id": "b9485a28",
   "metadata": {},
   "outputs": [
    {
     "name": "stdout",
     "output_type": "stream",
     "text": [
      "Inactivo\n",
      "Activo y mayor\n",
      "True <class 'bool'>\n",
      "True True False\n"
     ]
    }
   ],
   "source": [
    "# Ejemplos de bool\n",
    "mayor = 5 > 3\n",
    "activo = False\n",
    "if not activo:\n",
    "    print(\"Inactivo\")\n",
    "activo = True\n",
    "if activo and mayor:\n",
    "    print(\"Activo y mayor\")\n",
    "print(mayor, type(mayor))\n",
    "print(activo or mayor, activo and mayor, not activo)"
   ]
  },
  {
   "cell_type": "markdown",
   "id": "a42ed419",
   "metadata": {},
   "source": []
  },
  {
   "cell_type": "markdown",
   "id": "79114a7f",
   "metadata": {},
   "source": []
  },
  {
   "cell_type": "markdown",
   "id": "0a1d513d",
   "metadata": {},
   "source": [
    "# Tabla de operaciones booleanas en Python\n",
    "\n",
    "| Operador | Significado | Ejemplo | Resultado |\n",
    "|----------|-------------|---------|-----------|\n",
    "| `and` | Devuelve `True` si **ambos** operandos son verdaderos | `True and True` | `True` |\n",
    "|   |   | `True and False` | `False` |\n",
    "| `or` | Devuelve `True` si **al menos uno** es verdadero | `True or False` | `True` |\n",
    "|   |   | `False or False` | `False` |\n",
    "| `not` | Niega el valor lógico | `not True` | `False` |\n",
    "|   |   | `not False` | `True` |\n",
    "\n",
    "💡 Notas importantes\n",
    "\n",
    "Python evalúa de izquierda a derecha y usa **cortocircuito**:\n",
    "- En x and y, si x es False, no evalúa y.\n",
    "- En x or y, si x es True, no evalúa y.\n",
    "\n",
    "## Ejemplos prácticos\n"
   ]
  },
  {
   "cell_type": "code",
   "execution_count": null,
   "id": "ba8379be",
   "metadata": {},
   "outputs": [],
   "source": [
    "a = True\n",
    "b = False\n",
    "\n",
    "print(a and b)   # False\n",
    "print(a or b)    # True\n",
    "print(not a)     # False"
   ]
  },
  {
   "cell_type": "markdown",
   "id": "19ed418b",
   "metadata": {},
   "source": [
    "También funcionan con otros tipos de datos:"
   ]
  },
  {
   "cell_type": "code",
   "execution_count": 16,
   "id": "4ba0a95a",
   "metadata": {},
   "outputs": [
    {
     "name": "stdout",
     "output_type": "stream",
     "text": [
      "5\n",
      "\n"
     ]
    }
   ],
   "source": [
    "print(0 or 5)      # 5 (0 es falso)\n",
    "print(\"\" and \"A\")  # \"\" (cadena vacía es falso)"
   ]
  },
  {
   "cell_type": "markdown",
   "id": "c8b46395",
   "metadata": {},
   "source": [
    "## 5. Conjuntos – `set` y `frozenset`\n",
    "Conjunto **sin orden** y **sin duplicados**.\n",
    "- `set`: mutable (puedes añadir/eliminar elementos).\n",
    "- `frozenset`: inmutable."
   ]
  },
  {
   "cell_type": "code",
   "execution_count": null,
   "id": "434c971d",
   "metadata": {},
   "outputs": [],
   "source": [
    "# Ejemplos con conjuntos\n",
    "s = set([1, 2, 2, 3])\n",
    "print(s)            # {1, 2, 3}\n",
    "s.add(4)\n",
    "print(2 in s)\n",
    "\n",
    "fs = frozenset([1, 1, 2])\n",
    "print(fs)\n",
    "# fs.add(5)  # Error si lo intentas: frozenset es inmutable"
   ]
  },
  {
   "cell_type": "markdown",
   "id": "59405d6c",
   "metadata": {},
   "source": [
    "## 6. Diccionarios/Mapas – `dict`\n",
    "Almacenan pares `clave: valor`. La clave suele ser inmutable (por ejemplo, `str`, `int`, `tuple`)."
   ]
  },
  {
   "cell_type": "code",
   "execution_count": null,
   "id": "81cc85c0",
   "metadata": {},
   "outputs": [],
   "source": [
    "# Ejemplos con dict\n",
    "persona = {\"nombre\": \"Ana\", \"edad\": 20}\n",
    "print(persona[\"nombre\"])   # acceso por clave\n",
    "persona[\"edad\"] = 21       # modificar valor\n",
    "persona[\"ciudad\"] = \"Madrid\"  # añadir\n",
    "print(persona)\n",
    "print(persona.keys(), persona.values())"
   ]
  },
  {
   "cell_type": "markdown",
   "id": "282a7fe7",
   "metadata": {},
   "source": [
    "## 7. Tipos binarios – `bytes`, `bytearray`, `memoryview`\n",
    "Útiles para trabajar con datos binarios, ficheros, redes, etc."
   ]
  },
  {
   "cell_type": "code",
   "execution_count": 19,
   "id": "bed11c5e",
   "metadata": {},
   "outputs": [
    {
     "name": "stdout",
     "output_type": "stream",
     "text": [
      "b'hola' <class 'bytes'>\n",
      "104\n",
      "bytearray(b'Zbc')\n",
      "97 [97, 98, 99, 100]\n"
     ]
    }
   ],
   "source": [
    "# Ejemplos binarios\n",
    "\n",
    "#bytes\n",
    "b = b\"hola\"                 # bytes (inmutable)\n",
    "print(b, type(b))\n",
    "print(b[0]) # 104 (código ASCII de 'h')\n",
    "\n",
    "#bytearray\n",
    "ba = bytearray(b\"abc\")      # bytearray (mutable)\n",
    "ba[0] = 90  # 'Z'\n",
    "print(ba)\n",
    "\n",
    "mv = memoryview(b\"abcd\")    # vista de memoria\n",
    "print(mv[0], list(mv))"
   ]
  },
  {
   "cell_type": "markdown",
   "id": "d135ca8c",
   "metadata": {},
   "source": [
    "## 8. Comprobación de tipos y conversiones\n",
    "- `type(x)` devuelve el tipo exacto del valor `x`.\n",
    "- `isinstance(x, TIPO)` comprueba si `x` es instancia de un tipo (o subclase).\n",
    "- Conversiones: `int()`, `float()`, `str()`, `list()`, `tuple()`, `set()`, etc."
   ]
  },
  {
   "cell_type": "code",
   "execution_count": null,
   "id": "f821bf5a",
   "metadata": {},
   "outputs": [],
   "source": [
    "# type() vs isinstance()\n",
    "valor = 10\n",
    "print(type(valor) is int)       # True\n",
    "print(isinstance(valor, int))   # True\n",
    "\n",
    "# Conversiones\n",
    "print(int(3.9), float(5), str(123))\n",
    "print(list(\"hola\"), tuple([1,2,3]), set([1,1,2]))"
   ]
  },
  {
   "cell_type": "markdown",
   "id": "196bcfb7",
   "metadata": {},
   "source": [
    "---\n",
    "# Ejercicios\n",
    "Resuelve directamente en las celdas de código de abajo. Usa `type()` e `isinstance()` cuando sea útil."
   ]
  },
  {
   "cell_type": "markdown",
   "id": "a5a8ff76",
   "metadata": {},
   "source": [
    "## Ejercicio 1 – Tipos básicos\n",
    "Declara una variable de cada tipo: `int`, `float`, `complex`, `str`, `list`, `tuple`, `set`, `dict`, `bool`, `bytes`.\n",
    "Imprime su **valor** y su **tipo**."
   ]
  },
  {
   "cell_type": "code",
   "execution_count": 4,
   "id": "3de42579",
   "metadata": {},
   "outputs": [
    {
     "name": "stdout",
     "output_type": "stream",
     "text": [
      "<class 'int'>\n",
      "<class 'float'>\n",
      "<class 'str'>\n",
      "<class 'list'>\n",
      "<class 'dict'>\n",
      "<class 'tuple'>\n",
      "<class 'complex'>\n",
      "<class 'bool'>\n"
     ]
    }
   ],
   "source": [
    "# Tu solución aquí\n",
    "print(type(42323))     # int numero entero\n",
    "print(type(3.14))      # float numero con decimales \n",
    "print(type('hola'))    # str para cadenas de texto\n",
    "print(type([1,2,3,4,3]))   # list lista q elimina lo q se repite\n",
    "print(type({\"nombre\" : \"guillerito\"}))  # dict sirve como diccionario\n",
    "print(type((1,2,3)))  # tuple un alista pero q no se puede cambair una vez creada\n",
    "print(type(3 + 4j))   # complex numero complejo  es una suma de un numero real y otro imaginario (j)\n",
    "print(type(True))    # bool verdadero o falso  para representar condiciones\n",
    "\n"
   ]
  },
  {
   "cell_type": "markdown",
   "id": "38be97e8",
   "metadata": {},
   "source": [
    "## Ejercicio 2 – Lista heterogénea\n",
    "Crea una lista con 5 elementos de tipos distintos. Imprime por pantalla la lista completa."
   ]
  },
  {
   "cell_type": "code",
   "execution_count": null,
   "id": "32628e0f",
   "metadata": {},
   "outputs": [],
   "source": [
    "# Tu solución aquí\n",
    "list = [guillerito, 1, 2.5, 3 + 4j, [1,2,3,4,5]]\n"
   ]
  },
  {
   "cell_type": "markdown",
   "id": "9c4c12b6",
   "metadata": {},
   "source": [
    "## Ejercicio 3 – Diccionarios\n",
    "Define el diccionario `persona = {'nombre': 'Luis', 'edad': 30, 'activo': True}`:\n",
    "\n",
    "**Muestra por pantalla el diccionario final.**"
   ]
  },
  {
   "cell_type": "code",
   "execution_count": 5,
   "id": "4cd6fe5f",
   "metadata": {},
   "outputs": [
    {
     "name": "stdout",
     "output_type": "stream",
     "text": [
      "{'nombre': 'guillerito', 'edad': 45, 'altura': 1.55, 'es_estudiante': True, 'notas': [1, 3, 0]}\n"
     ]
    }
   ],
   "source": [
    "# Tu solución aquí\n",
    "diccionario = {\"nombre\": \"guillerito\", \"edad\": 45, \"altura\": 1.55, \"es_estudiante\": True, \"notas\": [1, 3, 0]}\n",
    "print(diccionario)"
   ]
  },
  {
   "cell_type": "markdown",
   "id": "2c5f1592",
   "metadata": {},
   "source": [
    "## Ejercicio 4 – Conjuntos\n",
    "Crea un `set` con números repetidos. Muestra el conjunto.\n",
    "\n"
   ]
  },
  {
   "cell_type": "code",
   "execution_count": null,
   "id": "0757d574",
   "metadata": {},
   "outputs": [
    {
     "name": "stdout",
     "output_type": "stream",
     "text": [
      "{1, 2, 3, 4, 5, 6, 7, 8, 42, 87, 56, 89}\n"
     ]
    }
   ],
   "source": [
    "# Tu solución aquí\n",
    "set = {1,2,4,6,87,56,4,2,5,8,89,2,6,42,3,4,7,2} # los q se repiten no los cuenta\n",
    "print(set)"
   ]
  },
  {
   "cell_type": "markdown",
   "id": "d23f4543",
   "metadata": {},
   "source": [
    "## Ejercicio 5 – Tipos binarios\n",
    "Crea un `bytearray` desde la cadena de bytes `b'ABC'`. Imprímelo por pantalla."
   ]
  },
  {
   "cell_type": "code",
   "execution_count": null,
   "id": "28246df0",
   "metadata": {},
   "outputs": [],
   "source": [
    "# Tu solución aquí\n"
   ]
  }
 ],
 "metadata": {
  "kernelspec": {
   "display_name": ".venv",
   "language": "python",
   "name": "python3"
  },
  "language_info": {
   "codemirror_mode": {
    "name": "ipython",
    "version": 3
   },
   "file_extension": ".py",
   "mimetype": "text/x-python",
   "name": "python",
   "nbconvert_exporter": "python",
   "pygments_lexer": "ipython3",
   "version": "3.12.3"
  }
 },
 "nbformat": 4,
 "nbformat_minor": 5
}
