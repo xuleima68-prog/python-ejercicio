{
 "cells": [
  {
   "cell_type": "markdown",
   "id": "2e139196",
   "metadata": {},
   "source": [
    "## Condicional ternario y `match-case` en Python\n",
    "En este cuaderno encontrarás la explicación y ejemplos básicos del **condicional ternario** y la estructura **`match-case`** en Python."
   ]
  },
  {
   "cell_type": "markdown",
   "id": "b46be1d9",
   "metadata": {},
   "source": [
    "### 1️⃣ Condicional ternario"
   ]
  },
  {
   "cell_type": "markdown",
   "id": "c76a4182",
   "metadata": {},
   "source": [
    "El **condicional ternario** es una forma corta de escribir un `if-else` en una sola línea.\n",
    "\n",
    "### Sintaxis:\n",
    "```python\n",
    "resultado = valor_si_verdadero if condicion else valor_si_falso\n",
    "```\n",
    "Se utiliza para decisiones simples."
   ]
  },
  {
   "cell_type": "code",
   "execution_count": null,
   "id": "d4b732af",
   "metadata": {},
   "outputs": [
    {
     "name": "stdout",
     "output_type": "stream",
     "text": [
      "Ejemplo 1 (ternario): Minor\n",
      "Ejemplo 2 (ternario): Odd\n"
     ]
    }
   ],
   "source": [
    "# Ejemplo 1: comprobar mayoría de edad\n",
    "age = 20\n",
    "message = \"Adult\" if age >= 18 else \"Minor\"\n",
    "print(\"Ejemplo 1 (ternario):\", message)\n",
    "\n",
    "# Ejemplo 2: número par o impar\n",
    "number = 7\n",
    "result = \"Even\" if number % 2 == 0 else \"Odd\"\n",
    "print(\"Ejemplo 2 (ternario):\", result)"
   ]
  },
  {
   "cell_type": "markdown",
   "id": "b51ac892",
   "metadata": {},
   "source": [
    "### 2️⃣ Estructura `match-case`"
   ]
  },
  {
   "cell_type": "markdown",
   "id": "32d9977e",
   "metadata": {},
   "source": [
    "A partir de **Python 3.10**, está disponible `match-case`, que funciona de forma similar a `switch` en otros lenguajes.\n",
    "\n",
    "### Sintaxis básica:\n",
    "```python\n",
    "match variable:\n",
    "    case valor1:\n",
    "        # código si coincide con valor1\n",
    "    case valor2:\n",
    "        # código si coincide con valor2\n",
    "    case _:\n",
    "        # comodín por defecto\n",
    "```\n",
    "Permite comparar un valor contra diferentes **patrones**."
   ]
  },
  {
   "cell_type": "code",
   "execution_count": 5,
   "id": "34c290fb",
   "metadata": {},
   "outputs": [
    {
     "name": "stdout",
     "output_type": "stream",
     "text": [
      "Wednesday\n"
     ]
    }
   ],
   "source": [
    "# Ejemplo 1: días de la semana\n",
    "day = 3\n",
    "match day:\n",
    "    case 1:\n",
    "        print(\"Monday\")\n",
    "    case 2:\n",
    "        print(\"Tuesday\")\n",
    "    case 3:\n",
    "        print(\"Wednesday\")\n",
    "    case 4:\n",
    "        print(\"Thursday\")\n",
    "    case 5:\n",
    "        print(\"Friday\")\n",
    "    case _:\n",
    "        print(\"Weekend or invalid\")"
   ]
  },
  {
   "cell_type": "code",
   "execution_count": 6,
   "id": "ed794e27",
   "metadata": {},
   "outputs": [
    {
     "name": "stdout",
     "output_type": "stream",
     "text": [
      "Access: Full\n"
     ]
    }
   ],
   "source": [
    "# Ejemplo 2: roles de usuario\n",
    "role = \"admin\"\n",
    "match role:\n",
    "    case \"admin\":\n",
    "        print(\"Access: Full\")\n",
    "    case \"user\":\n",
    "        print(\"Access: Limited\")\n",
    "    case \"guest\":\n",
    "        print(\"Access: Read only\")\n",
    "    case _:\n",
    "        print(\"Access: Unknown\")"
   ]
  },
  {
   "cell_type": "markdown",
   "id": "c14cb06e",
   "metadata": {},
   "source": [
    "---\n",
    "\n",
    "## 🧪 Ejercicios de **condicional ternario** (con tests)\n",
    "Implementa las funciones solicitadas **usando condicional ternario**. Las variables deben estar en **inglés** y los **comentarios en español**. Debajo de cada ejercicio tienes una celda con **tests unitarios** para comprobar tu solución.\n"
   ]
  },
  {
   "cell_type": "markdown",
   "id": "1e60d9c8",
   "metadata": {},
   "source": [
    "### ✅ Ejercicio 1 — Ternario: `adult_label(age)`\n",
    "Crea una función que devuelva `\"Adult\"` si `age >= 18`, si no `\"Minor\"`. Usa **condicional ternario**."
   ]
  },
  {
   "cell_type": "code",
   "execution_count": 3,
   "id": "fa789fd9",
   "metadata": {},
   "outputs": [],
   "source": [
    "# Escribe aquí tu solución\n",
    "def adult_label(age):\n",
    "    # TODO: usar condicional ternario para devolver 'Adult' o 'Minor'\n",
    "    pass\n",
    "    message = \"Adult\" if age >= 18 else \"Minor\"\n",
    "    return message"
   ]
  },
  {
   "cell_type": "markdown",
   "id": "6f0de012",
   "metadata": {},
   "source": [
    "**Test unitario (Ejercicio 1):**"
   ]
  },
  {
   "cell_type": "code",
   "execution_count": 4,
   "id": "25934b07",
   "metadata": {},
   "outputs": [
    {
     "name": "stderr",
     "output_type": "stream",
     "text": [
      "..\n",
      "----------------------------------------------------------------------\n",
      "Ran 2 tests in 0.001s\n",
      "\n",
      "OK\n"
     ]
    },
    {
     "data": {
      "text/plain": [
       "<unittest.main.TestProgram at 0x76b1382310a0>"
      ]
     },
     "execution_count": 4,
     "metadata": {},
     "output_type": "execute_result"
    }
   ],
   "source": [
    "import unittest\n",
    "\n",
    "class TestAdultLabel(unittest.TestCase):\n",
    "    def test_minor(self):\n",
    "        self.assertEqual(adult_label(0), \"Minor\")\n",
    "        self.assertEqual(adult_label(17), \"Minor\")\n",
    "    def test_adult(self):\n",
    "        self.assertEqual(adult_label(18), \"Adult\")\n",
    "        self.assertEqual(adult_label(35), \"Adult\")\n",
    "\n",
    "unittest.main(argv=[''], exit=False)"
   ]
  },
  {
   "cell_type": "markdown",
   "id": "535c24fc",
   "metadata": {},
   "source": [
    "### ✅ Ejercicio 2 — Ternario: `even_odd_label(n)`\n",
    "Devuelve `\"Even\"` si `n` es par, `\"Odd\"` si es impar. Usa **condicional ternario**."
   ]
  },
  {
   "cell_type": "code",
   "execution_count": null,
   "id": "3982bb52",
   "metadata": {},
   "outputs": [],
   "source": [
    "# Escribe aquí tu solución\n",
    "def even_odd_label(n):\n",
    "    # TODO: usar condicional ternario con n % 2\n",
    "    result = \"Even\" if n % 2 == 0 else \"Odd\"\n",
    "    return result"
   ]
  },
  {
   "cell_type": "markdown",
   "id": "2f6bc8e9",
   "metadata": {},
   "source": [
    "**Test unitario (Ejercicio 2):**"
   ]
  },
  {
   "cell_type": "code",
   "execution_count": 10,
   "id": "345f62df",
   "metadata": {},
   "outputs": [
    {
     "name": "stderr",
     "output_type": "stream",
     "text": [
      "....\n",
      "----------------------------------------------------------------------\n",
      "Ran 4 tests in 0.002s\n",
      "\n",
      "OK\n"
     ]
    },
    {
     "data": {
      "text/plain": [
       "<unittest.main.TestProgram at 0x76b129df2900>"
      ]
     },
     "execution_count": 10,
     "metadata": {},
     "output_type": "execute_result"
    }
   ],
   "source": [
    "import unittest\n",
    "\n",
    "class TestEvenOddLabel(unittest.TestCase):\n",
    "    def test_even(self):\n",
    "        self.assertEqual(even_odd_label(0), \"Even\")\n",
    "        self.assertEqual(even_odd_label(10), \"Even\")\n",
    "    def test_odd(self):\n",
    "        self.assertEqual(even_odd_label(1), \"Odd\")\n",
    "        self.assertEqual(even_odd_label(7), \"Odd\")\n",
    "\n",
    "unittest.main(argv=[''], exit=False)"
   ]
  },
  {
   "cell_type": "markdown",
   "id": "e6a8febe",
   "metadata": {},
   "source": [
    "### ✅ Ejercicio 3 — `match-case`: `role_access(role)`\n",
    "Devuelve `\"Full\"` si `role == 'admin'`, `\"Limited\"` si `role == 'user'`, `\"ReadOnly\"` si `role == 'guest'`, y `\"Unknown\"` en otro caso. Usa **`match-case`**."
   ]
  },
  {
   "cell_type": "code",
   "execution_count": 39,
   "id": "d5777670",
   "metadata": {},
   "outputs": [],
   "source": [
    "# Escribe aquí tu solución\n",
    "def role_access(role):\n",
    "    # TODO: implementar con match-case\n",
    "    match role:\n",
    "        case \"admin\":\n",
    "            return\"Full\"\n",
    "        case \"user\":\n",
    "            return \"Limited\"\n",
    "        case \"guest\":\n",
    "            return \"ReadOnly\"\n",
    "        case _:\n",
    "            return \"Unknown\""
   ]
  },
  {
   "cell_type": "markdown",
   "id": "b9800464",
   "metadata": {},
   "source": [
    "**Test unitario (Ejercicio 3):**"
   ]
  },
  {
   "cell_type": "code",
   "execution_count": 40,
   "id": "7245df5f",
   "metadata": {},
   "outputs": [
    {
     "name": "stderr",
     "output_type": "stream",
     "text": [
      "......\n",
      "----------------------------------------------------------------------\n",
      "Ran 6 tests in 0.003s\n",
      "\n",
      "OK\n"
     ]
    },
    {
     "data": {
      "text/plain": [
       "<unittest.main.TestProgram at 0x76b128c1bd70>"
      ]
     },
     "execution_count": 40,
     "metadata": {},
     "output_type": "execute_result"
    }
   ],
   "source": [
    "import unittest\n",
    "\n",
    "class TestRoleAccess(unittest.TestCase):\n",
    "    def test_known(self):\n",
    "        self.assertEqual(role_access(\"admin\"), \"Full\")\n",
    "        self.assertEqual(role_access(\"user\"), \"Limited\")\n",
    "        self.assertEqual(role_access(\"guest\"), \"ReadOnly\")\n",
    "    def test_unknown(self):\n",
    "        self.assertEqual(role_access(\"editor\"), \"Unknown\")\n",
    "        self.assertEqual(role_access(\"\"), \"Unknown\")\n",
    "\n",
    "unittest.main(argv=[''], exit=False)"
   ]
  }
 ],
 "metadata": {
  "kernelspec": {
   "display_name": ".venv",
   "language": "python",
   "name": "python3"
  },
  "language_info": {
   "codemirror_mode": {
    "name": "ipython",
    "version": 3
   },
   "file_extension": ".py",
   "mimetype": "text/x-python",
   "name": "python",
   "nbconvert_exporter": "python",
   "pygments_lexer": "ipython3",
   "version": "3.12.3"
  }
 },
 "nbformat": 4,
 "nbformat_minor": 5
}
