{
 "cells": [
  {
   "cell_type": "markdown",
   "id": "70073c7e",
   "metadata": {},
   "source": [
    "# 🐍 Práctica: Operadores en Python"
   ]
  },
  {
   "cell_type": "markdown",
   "id": "f24f5d91",
   "metadata": {},
   "source": [
    "## 1️⃣ Operadores aritméticos\n",
    "\n",
    "Se utilizan para realizar operaciones matemáticas básicas con números."
   ]
  },
  {
   "cell_type": "code",
   "execution_count": null,
   "id": "c04c87fd",
   "metadata": {},
   "outputs": [],
   "source": [
    "# Ejemplo básico\n",
    "a = 10\n",
    "b = 3\n",
    "\n",
    "print(\"Suma:\", a + b)        # suma de a y b\n",
    "print(\"Resta:\", a - b)       # resta de a y b\n",
    "print(\"Multiplicación:\", a * b)\n",
    "print(\"División:\", a / b)\n",
    "print(\"División entera:\", a // b)\n",
    "print(\"Resto (módulo):\", a % b)\n",
    "print(\"Potencia:\", a ** b)"
   ]
  },
  {
   "cell_type": "markdown",
   "id": "c475151c",
   "metadata": {},
   "source": [
    "### ✏️ Ejercicios\n",
    "1. Crea dos variables `x` y `y` con los valores 8 y 5. Calcula su suma, resta, multiplicación y división.\n",
    "2. Calcula el **área de un triángulo** con base 12 y altura 8.\n",
    "3. Calcula el **resto** de dividir 45 entre 7.\n",
    "4. Calcula 2 elevado a la 10.\n",
    "5. Calcula el **promedio** de tres notas: 7, 9 y 10."
   ]
  },
  {
   "cell_type": "code",
   "execution_count": null,
   "id": "c6daa694",
   "metadata": {},
   "outputs": [
    {
     "name": "stdout",
     "output_type": "stream",
     "text": [
      "La suma es 13 La resta es 3 La multiplicacion es  40 La division es  1.6\n",
      "---------------------------------------------------------------------------\n",
      "El área del triángulo es: 48.0\n",
      "---------------------------------------------------------------------------\n",
      "EL resto es 3\n",
      "---------------------------------------------------------------------------\n",
      "2 elevado a 10 es 1024\n",
      "---------------------------------------------------------------------------\n",
      "El promedio es 8.666666666666666\n",
      "---------------------------------------------------------------------------\n"
     ]
    }
   ],
   "source": [
    "# ✅ Soluciones\n",
    "# 1\n",
    "x = 8\n",
    "y = 5\n",
    "a = x + y\n",
    "b = x - y\n",
    "c = x * y\n",
    "d = x / y\n",
    "print (\"La suma es\", a, \"La resta es\", b, \"La multiplicacion es \", c, \"La division es \", d)\n",
    "print(\"---------------------------------------------------------------------------\")\n",
    "# 2\n",
    "base = 12\n",
    "altura = 8\n",
    "area = (base * altura) / 2\n",
    "print(\"El área del triángulo es:\", area)\n",
    "print(\"---------------------------------------------------------------------------\")\n",
    "# 3\n",
    "a = 45\n",
    "b = 7 \n",
    "resto = a % b\n",
    "print(\"EL resto es\", resto)\n",
    "print(\"---------------------------------------------------------------------------\")\n",
    "# 4\n",
    "a = 2 ** 10\n",
    "print(\"2 elevado a 10 es\", a)\n",
    "print(\"---------------------------------------------------------------------------\")\n",
    "# 5\n",
    "a = 7\n",
    "b = 9 \n",
    "c = 10\n",
    "promedio = (a+b+c) / 3\n",
    "print(\"El promedio es\", promedio)\n",
    "print(\"---------------------------------------------------------------------------\")"
   ]
  },
  {
   "cell_type": "markdown",
   "id": "6974a652",
   "metadata": {},
   "source": [
    "## 2️⃣ Operadores de asignación\n",
    "\n",
    "Permiten asignar valores a variables o modificar su contenido.  "
   ]
  },
  {
   "cell_type": "code",
   "execution_count": null,
   "id": "26c66910",
   "metadata": {},
   "outputs": [
    {
     "name": "stdout",
     "output_type": "stream",
     "text": [
      "Valor inicial: 10\n",
      "Valor final: 26\n"
     ]
    }
   ],
   "source": [
    "# Ejemplo\n",
    "x = 10\n",
    "print(\"Valor inicial:\", x)\n",
    "\n",
    "x += 5   # equivale a x = x + 5\n",
    "x *= 2   # equivale a x = x * 2\n",
    "x -= 4   # equivale a x = x - 4\n",
    "print(\"Valor final:\", x)"
   ]
  },
  {
   "cell_type": "markdown",
   "id": "2421e412",
   "metadata": {},
   "source": [
    "### ✏️ Ejercicios\n",
    "1. Crea una variable `n = 50` y súmale 25 usando `+=`.\n",
    "2. Resta 10 a `n` usando `-=`.\n",
    "3. Multiplica `n` por 3.\n",
    "4. Divide `n` entre 5.\n",
    "5. Crea una variable `precio = 120` y aplícale un descuento del 20% usando operadores de asignación."
   ]
  },
  {
   "cell_type": "code",
   "execution_count": null,
   "id": "91fceeea",
   "metadata": {},
   "outputs": [
    {
     "name": "stdout",
     "output_type": "stream",
     "text": [
      "El nuevo valor de n es 75\n",
      "---------------------------------------------------------------------------\n",
      "El nuevo valor de n es 65\n",
      "---------------------------------------------------------------------------\n",
      "El nuevo valor de n es 195\n",
      "---------------------------------------------------------------------------\n",
      "El nuevo valor de n es 39.0\n",
      "---------------------------------------------------------------------------\n",
      "El precio con descuento es 96.0\n"
     ]
    }
   ],
   "source": [
    "# ✅ Soluciones\n",
    "# 1\n",
    "n = 50 \n",
    "n += 25\n",
    "print(\"El nuevo valor de n es\", n)\n",
    "print(\"---------------------------------------------------------------------------\")\n",
    "# 2\n",
    "n -= 10\n",
    "print(\"El nuevo valor de n es\", n)\n",
    "print(\"---------------------------------------------------------------------------\")\n",
    "# 3\n",
    "n *= 3\n",
    "print(\"El nuevo valor de n es\", n)\n",
    "print(\"---------------------------------------------------------------------------\")\n",
    "# 4\n",
    "n /= 5\n",
    "print(\"El nuevo valor de n es\", n)\n",
    "print(\"---------------------------------------------------------------------------\")\n",
    "# 5\n",
    "precio = 120\n",
    "precio *= 0.80\n",
    "print(\"El precio con descuento es\", precio)"
   ]
  },
  {
   "cell_type": "markdown",
   "id": "6f08eb45",
   "metadata": {},
   "source": [
    "## 3️⃣ Operadores de comparación\n",
    "\n",
    "Sirven para comparar valores. Devuelven `True` (verdadero) o `False` (falso)."
   ]
  },
  {
   "cell_type": "code",
   "execution_count": null,
   "id": "3e15c569",
   "metadata": {},
   "outputs": [],
   "source": [
    "# Ejemplo\n",
    "a = 10\n",
    "b = 5\n",
    "\n",
    "print(a == b)  # ¿a es igual a b?\n",
    "print(a != b)  # ¿a es distinto de b?\n",
    "print(a > b)\n",
    "print(a < b)\n",
    "print(a >= b)\n",
    "print(a <= b)"
   ]
  },
  {
   "cell_type": "markdown",
   "id": "0d46efbb",
   "metadata": {},
   "source": [
    "### ✏️ Ejercicios\n",
    "1. Comprueba si 8 es igual a 8.\n",
    "2. Comprueba si 12 es menor que 7.\n",
    "3. Comprueba si 9 es mayor o igual que 9.\n",
    "4. Compara dos cadenas de texto: `'hola'` y `'adiós'`.\n",
    "5. Comprueba si el número 100 es distinto de 101."
   ]
  },
  {
   "cell_type": "code",
   "execution_count": null,
   "id": "d9809ed1",
   "metadata": {},
   "outputs": [],
   "source": [
    "# ✅ Soluciones\n",
    "# 1\n",
    "a = 8\n",
    "b = 8\n",
    "print (a == b)   #sale true porque son iguales\n",
    "# 2\n",
    "a = 12\n",
    "b = 7\n",
    "print (a < b)    #sale false porque 12 no es menor que 7\n",
    "# 3\n",
    "a = 9\n",
    "b = 9 \n",
    "print (a >= b)   #sale true porque 9 es igual a 9\n",
    "# 4\n",
    "a = \"hola\"\n",
    "b = \"adios\"\n",
    "print (a == b)   #sale false porque son diferentes\n",
    "# 5\n",
    "a = 100\n",
    "b = 101\n",
    "print (a != b)   #sale true porque son diferentes"
   ]
  },
  {
   "cell_type": "markdown",
   "id": "940db227",
   "metadata": {},
   "source": [
    "## 4️⃣ Operadores lógicos\n",
    "\n",
    "Se utilizan para combinar comparaciones o expresiones booleanas.\n",
    "\n",
    "- `and`: True si **ambas** condiciones son verdaderas.\n",
    "- `or`: True si **una o ambas** condiciones son verdaderas.\n",
    "- `not`: invierte el valor lógico."
   ]
  },
  {
   "cell_type": "code",
   "execution_count": null,
   "id": "f582f663",
   "metadata": {},
   "outputs": [],
   "source": [
    "# Ejemplo\n",
    "a = 10\n",
    "b = 5\n",
    "\n",
    "print((a > b) and (a < 20))  # ambas verdaderas\n",
    "print((a < b) or (b == 5))   # una es verdadera\n",
    "print(not (a == 10))         # invierte el resultado"
   ]
  },
  {
   "cell_type": "markdown",
   "id": "f579a89b",
   "metadata": {},
   "source": [
    "### ✏️ Ejercicios\n",
    "1. Comprueba si el número 7 está entre 5 y 10 usando `and`.\n",
    "2. Comprueba si una de dos condiciones es verdadera usando `or`.\n",
    "3. Usa `not` para invertir el resultado de una comparación.\n",
    "4. Comprueba si `(3 > 2)` y `(10 < 5)` son ambas verdaderas.\n",
    "5. Crea una expresión con `and`, `or` y `not` combinados."
   ]
  },
  {
   "cell_type": "code",
   "execution_count": null,
   "id": "e060b3cf",
   "metadata": {},
   "outputs": [],
   "source": [
    "# ✅ Soluciones\n",
    "# 1\n",
    "a = 7\n",
    "b = 5\n",
    "c = 10\n",
    "print((a > b) and (a < c))  # comprobar si a es mayor que b y menor que c   puerta logica and sale True si ambas son ciertas\n",
    "# 2\n",
    "a = 7\n",
    "b = 5\n",
    "c = 10\n",
    "print((a > b) or (a == c)) # puerta logica or sale True si al menos una es cierta\n",
    "# 3\n",
    "a = 7\n",
    "b = 5\n",
    "c = 10\n",
    "print(not (a == c))       # puerta logica not invierte el resultado, sale True porque a no es igual a c si es False saca True y si es True saca False\n",
    "# 4\n",
    "print((3 > 2) and (10 < 5)) # puerta logica and sale False porque una de las dos es falsa\n",
    "# 5\n",
    "a = 7\n",
    "b = 5\n",
    "c = 10\n",
    "print((b < a) and (a > b) or (a == c) and not (a == b)) "
   ]
  },
  {
   "cell_type": "markdown",
   "id": "03f8b5a8",
   "metadata": {},
   "source": [
    "## 5️⃣ Operadores de pertenencia (`in`, `not in`)\n",
    "\n",
    "Comprueban si un elemento está (o no está) dentro de una lista, cadena o colección."
   ]
  },
  {
   "cell_type": "code",
   "execution_count": null,
   "id": "dd36435a",
   "metadata": {},
   "outputs": [],
   "source": [
    "# Ejemplo\n",
    "fruits = [\"apple\", \"banana\", \"cherry\"]\n",
    "print(\"apple\" in fruits)\n",
    "print(\"orange\" not in fruits)"
   ]
  },
  {
   "cell_type": "markdown",
   "id": "16d1785b",
   "metadata": {},
   "source": [
    "### ✏️ Ejercicios\n",
    "1. Crea una lista `colors = ['red', 'green', 'blue']` y comprueba si `'blue'` está en la lista.\n",
    "2. Comprueba si `'yellow'` no está en la lista.\n",
    "3. Crea una cadena `'python'` y comprueba si `'p'` está en ella.\n",
    "4. Comprueba si `'z'` no está en `'python'`.\n",
    "5. Añade `'purple'` a la lista y vuelve a comprobar si está."
   ]
  },
  {
   "cell_type": "code",
   "execution_count": null,
   "id": "190fde63",
   "metadata": {},
   "outputs": [],
   "source": [
    "# ✅ Soluciones\n",
    "# 1\n",
    "colors = [\"red\", \"blue\", \"green\"]\n",
    "print(\"blue\" in colors)    # sale True porque blue está en la lista\n",
    "# 2\n",
    "colors = [\"red\", \"blue\", \"green\"]\n",
    "print(\"yellow\" in colors) \n",
    "# 3\n",
    "python = \"python\"\n",
    "print(\"y\" in python)       # sale True porque la letra y está en la palabra python\n",
    "# 4\n",
    "print (\"z\" in python)     # sale False porque la letra z no está en la palabra python\n",
    "# 5\n",
    "colors.append('purple') # append añade un elemento a la lista\n",
    "print(\"purple\" in colors)  # sale True porque purple se añadió a la lista"
   ]
  },
  {
   "cell_type": "markdown",
   "id": "cdc3d7a0",
   "metadata": {},
   "source": [
    "## 6️⃣ Operadores de identidad (`is`, `is not`)\n",
    "\n",
    "Comprueban si dos variables **apuntan al mismo objeto** en memoria."
   ]
  },
  {
   "cell_type": "code",
   "execution_count": null,
   "id": "f90c82d7",
   "metadata": {},
   "outputs": [],
   "source": [
    "# Ejemplo\n",
    "x = [1, 2, 3]\n",
    "y = x\n",
    "z = [1, 2, 3]\n",
    "\n",
    "print(x is y)      # True, porque y es el mismo objeto que x\n",
    "print(x is z)      # False, mismo contenido pero distinto objeto\n",
    "print(x is not z)  # True"
   ]
  },
  {
   "cell_type": "markdown",
   "id": "6b0cb841",
   "metadata": {},
   "source": [
    "### ✏️ Ejercicios\n",
    "1. Crea dos listas iguales y comprueba si son el mismo objeto.\n",
    "2. Asigna una de ellas a otra variable y comprueba si ahora son idénticas.\n",
    "3. Usa `is not` para comprobar si dos variables son distintas en memoria."
   ]
  },
  {
   "cell_type": "code",
   "execution_count": null,
   "id": "361cddcf",
   "metadata": {},
   "outputs": [],
   "source": [
    "# ✅ Soluciones\n",
    "x = [1, 2, 3]\n",
    "y = x\n",
    "# 1\n",
    "print (x is y)\n",
    "# 2\n",
    "y = [1, 2, 3, 4]\n",
    "print (x is y)\n",
    "# 3\n",
    "print (x is not y)\n"
   ]
  },
  {
   "cell_type": "markdown",
   "id": "3dc1cbdb",
   "metadata": {},
   "source": [
    "## 🧩 Ejercicios de repaso\n",
    "\n",
    "1. Calcula el doble del promedio de los números 4, 6 y 8.\n",
    "2. Comprueba si `'o'` está en `'python'`.\n",
    "3. Usa operadores de asignación para aumentar una variable de 5 en 5 tres veces.\n",
    "4. Comprueba si 15 es mayor que 10 **y** menor que 20.\n",
    "5. Comprueba si dos listas distintas tienen el mismo contenido pero no son el mismo objeto."
   ]
  },
  {
   "cell_type": "code",
   "execution_count": 5,
   "id": "ec20be58",
   "metadata": {},
   "outputs": [
    {
     "name": "stdout",
     "output_type": "stream",
     "text": [
      "12.0\n",
      "True\n",
      "20\n",
      "True\n",
      "True\n",
      "False\n"
     ]
    }
   ],
   "source": [
    "# ✅ Soluciones\n",
    "# 1\n",
    "print(((4+6+8)/3)*2)\n",
    "# 2\n",
    "print(\"o\" in \"python\")\n",
    "\n",
    "# 3\n",
    "x=5\n",
    "x+=5\n",
    "x+=5\n",
    "x+=5\n",
    "print(x)\n",
    "\n",
    "# 4\n",
    "a = 10\n",
    "b = 15\n",
    "c = 20\n",
    "print(b > a and b < c)\n",
    "\n",
    "# 5\n",
    "list1=[1, 2, 3, 4, 5]\n",
    "list2=[1, 2, 3, 4, 5]\n",
    "print(list1==list2)\n",
    "print(list1 is list2)"
   ]
  }
 ],
 "metadata": {
  "kernelspec": {
   "display_name": ".venv",
   "language": "python",
   "name": "python3"
  },
  "language_info": {
   "codemirror_mode": {
    "name": "ipython",
    "version": 3
   },
   "file_extension": ".py",
   "mimetype": "text/x-python",
   "name": "python",
   "nbconvert_exporter": "python",
   "pygments_lexer": "ipython3",
   "version": "3.12.3"
  }
 },
 "nbformat": 4,
 "nbformat_minor": 5
}
