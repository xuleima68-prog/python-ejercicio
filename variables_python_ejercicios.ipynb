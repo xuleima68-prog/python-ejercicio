{
 "cells": [
  {
   "cell_type": "markdown",
   "id": "ec7da953",
   "metadata": {},
   "source": [
    "# Variables en Python\n",
    "Este cuaderno explica el uso de **variables en Python** con ejemplos y ejercicios."
   ]
  },
  {
   "cell_type": "markdown",
   "id": "161d6c95",
   "metadata": {},
   "source": [
    "## 1️⃣ ¿Qué es una variable?\n",
    "En Python, las variables se usan para **almacenar datos** que pueden referenciarse y manipularse durante la ejecución.\n",
    "Una variable es un **nombre asignado a un valor**. No es necesario declarar el tipo; Python lo infiere."
   ]
  },
  {
   "cell_type": "code",
   "execution_count": 3,
   "id": "46327229",
   "metadata": {},
   "outputs": [
    {
     "name": "stdout",
     "output_type": "stream",
     "text": [
      "5\n",
      "Samantha\n"
     ]
    }
   ],
   "source": [
    "# Ejemplo básico (variables en inglés, comentarios en español)\n",
    "x = 5  # entero\n",
    "name = \"Samantha\"  # cadena\n",
    "\n",
    "print(x)      # 5\n",
    "print(name)   # Samantha"
   ]
  },
  {
   "cell_type": "markdown",
   "id": "0a4229db",
   "metadata": {},
   "source": [
    "### Ejercicio 1\n",
    "Crea tres variables llamadas `first_name`, `age` y `city`, asígnales valores y muéstralos con `print()`."
   ]
  },
  {
   "cell_type": "code",
   "execution_count": 6,
   "id": "1dbd67b8",
   "metadata": {},
   "outputs": [
    {
     "name": "stdout",
     "output_type": "stream",
     "text": [
      "guillerito 29 gouda\n"
     ]
    }
   ],
   "source": [
    "# Escribe aquí tu código\n",
    "first_name, age, city = \"guillerito\" , 29, \"gouda\"\n",
    "\n",
    "print(first_name, age, city)"
   ]
  },
  {
   "cell_type": "markdown",
   "id": "20723092",
   "metadata": {},
   "source": [
    "## 2️⃣ Reglas para nombrar variables\n",
    "- Letras, dígitos y guion bajo `_`.\n",
    "- No pueden empezar con un dígito.\n",
    "- Sensibles a mayúsculas/minúsculas.\n",
    "- No usar palabras clave de Python."
   ]
  },
  {
   "cell_type": "code",
   "execution_count": null,
   "id": "bda563cf",
   "metadata": {},
   "outputs": [],
   "source": [
    "# Ejemplos válidos\n",
    "age = 21\n",
    "_colour = \"lilac\"\n",
    "total_score = 90\n",
    "\n",
    "# Ejemplos inválidos (no ejecutar)\n",
    "# 1name = \"Error\"\n",
    "# class = 10\n",
    "# user-name = \"Doe\""
   ]
  },
  {
   "cell_type": "markdown",
   "id": "5840c9b0",
   "metadata": {},
   "source": [
    "### Ejercicio 2\n",
    "Escribe cinco nombres de variables para un programa de notas de alumnos, cumpliendo las reglas de Python."
   ]
  },
  {
   "cell_type": "code",
   "execution_count": null,
   "id": "da4d381d",
   "metadata": {},
   "outputs": [],
   "source": [
    "# Escribe aquí tu código\n",
    "name = \"Alice\"\n",
    "test_score = 95\n",
    "classroom = \"3A\"\n",
    "date = \"2024-06-15\"\n",
    "max_score, min_score = 100, 0\n"
   ]
  },
  {
   "cell_type": "markdown",
   "id": "f32decf9",
   "metadata": {},
   "source": [
    "**Naming**\n",
    "    \n",
    "Indica si los siguientes nombres serían válidos en Python. Si no lo son, explica por qué y propón una alternativa válida.\n",
    "```\n",
    "1st_value  no es valido por que en python los identificadores no empiezan por numero\n",
    "\n",
    "total-sum  no es valido por que solo se permite tener letras y _ en los nombres \n",
    "\n",
    "_cache     si es valido\n",
    "\n",
    "userName   si es valido\n",
    "\n",
    "for        no por que es una palabra reservada\n",
    "\n",
    "score2     si aun que tenga numero no esta en el principio\n",
    "```"
   ]
  },
  {
   "cell_type": "markdown",
   "id": "26441164",
   "metadata": {},
   "source": [
    "#### Escribe aquí la respuesta\n"
   ]
  },
  {
   "cell_type": "markdown",
   "id": "1add975a",
   "metadata": {},
   "source": [
    "## 3️⃣ Asignación de valores y tipado dinámico\n",
    "Puedes asignar valores con `=` y usar tipado dinámico (una misma variable puede referenciar objetos de distintos tipos a lo largo del programa)."
   ]
  },
  {
   "cell_type": "code",
   "execution_count": null,
   "id": "b6dc89d9",
   "metadata": {},
   "outputs": [],
   "source": [
    "# Asignación básica y tipado dinámico\n",
    "score = 10  # entero\n",
    "print(type(score))  # mostrar tipo\n",
    "score = \"ten\"  # ahora cadena\n",
    "print(type(score))"
   ]
  },
  {
   "cell_type": "markdown",
   "id": "2485683b",
   "metadata": {},
   "source": [
    "### Ejercicio 3\n",
    "Declara una variable `score` con valor `10`. Reasígnala con el texto `\"ten\"` y muestra su tipo después de cada cambio usando `type()`."
   ]
  },
  {
   "cell_type": "code",
   "execution_count": null,
   "id": "4720e64e",
   "metadata": {},
   "outputs": [
    {
     "name": "stdout",
     "output_type": "stream",
     "text": [
      "<class 'int'>\n",
      "<class 'str'>\n"
     ]
    }
   ],
   "source": [
    "# Escribe aquí tu código\n",
    "score = 10 \n",
    "print(type(score))  ## muestra que es un dato int\n",
    "score = \"ten\"\n",
    "print(type(score))  ## muestra que es un dato string"
   ]
  },
  {
   "cell_type": "markdown",
   "id": "0b1bd6d1",
   "metadata": {},
   "source": [
    "## 4️⃣ Asignaciones múltiples\n",
    "- Mismo valor en varias variables.\n",
    "- Valores diferentes en una sola línea.\n",
    "- Intercambio (swap) sin variable temporal."
   ]
  },
  {
   "cell_type": "code",
   "execution_count": null,
   "id": "3107c448",
   "metadata": {},
   "outputs": [],
   "source": [
    "# Mismo valor para varias variables\n",
    "a = b = c = 100\n",
    "print(a, b, c)\n",
    "\n",
    "# Valores diferentes en una sola línea\n",
    "country, code, european = \"Spain\", 34, True\n",
    "print(country, code, european)\n",
    "\n",
    "# Swap sin variable temporal\n",
    "left, right = 1, 2\n",
    "left, right = right, left\n",
    "print(left, right)"
   ]
  },
  {
   "cell_type": "markdown",
   "id": "a79acc40",
   "metadata": {},
   "source": [
    "### Ejercicio 4\n",
    "En una sola línea, asigna `country = \"Spain\"`, `code = 34`, `european = True`. Imprime los valores."
   ]
  },
  {
   "cell_type": "code",
   "execution_count": 8,
   "id": "1d354c02",
   "metadata": {},
   "outputs": [
    {
     "name": "stdout",
     "output_type": "stream",
     "text": [
      "Spain 34 True\n"
     ]
    }
   ],
   "source": [
    "# Escribe aquí tu código\n",
    "country, code, european = \"Spain\", 34, True\n",
    "print(country, code, european)"
   ]
  },
  {
   "cell_type": "markdown",
   "id": "583b0e81",
   "metadata": {},
   "source": [
    "## 5️⃣ Conversión de tipos (Type casting)\n",
    "Usa `int()`, `float()` y `str()` para convertir valores entre tipos básicos."
   ]
  },
  {
   "cell_type": "code",
   "execution_count": 12,
   "id": "c2fb3bba",
   "metadata": {},
   "outputs": [
    {
     "name": "stdout",
     "output_type": "stream",
     "text": [
      "10\n",
      "5.0\n",
      "25\n"
     ]
    }
   ],
   "source": [
    "# Ejemplos de casting\n",
    "s = \"10\"  # cadena\n",
    "n = int(s)  # a entero\n",
    "cnt = 5\n",
    "f = float(cnt)  # a flotante\n",
    "age = 25\n",
    "s2 = str(age)   # a cadena\n",
    "\n",
    "print(n)   # 10\n",
    "print(f)   # 5.0\n",
    "print(s2)  # 25"
   ]
  },
  {
   "cell_type": "markdown",
   "id": "ccd63f03",
   "metadata": {},
   "source": [
    "### Ejercicio 5\n",
    "Convierte la cadena `\"25\"` a entero y luego a flotante. Imprime el resultado en cada paso."
   ]
  },
  {
   "cell_type": "code",
   "execution_count": 13,
   "id": "153f7fcb",
   "metadata": {},
   "outputs": [
    {
     "name": "stdout",
     "output_type": "stream",
     "text": [
      "25.0\n",
      "25\n"
     ]
    }
   ],
   "source": [
    "# Escribe aquí tu código\n",
    "age = 25 \n",
    "f = float(age)\n",
    "print(f)\n",
    "i = int (age)\n",
    "print(i)"
   ]
  },
  {
   "cell_type": "markdown",
   "id": "227fe8ce",
   "metadata": {},
   "source": [
    "## 6️⃣ Obtener el tipo de una variable\n",
    "La función `type()` devuelve el tipo del objeto pasado."
   ]
  },
  {
   "cell_type": "code",
   "execution_count": 14,
   "id": "ddb30f8d",
   "metadata": {},
   "outputs": [
    {
     "name": "stdout",
     "output_type": "stream",
     "text": [
      "<class 'int'>\n",
      "<class 'float'>\n",
      "<class 'str'>\n",
      "<class 'list'>\n",
      "<class 'dict'>\n",
      "<class 'bool'>\n"
     ]
    }
   ],
   "source": [
    "# Ejemplo de type()\n",
    "n = 42\n",
    "f = 3.14\n",
    "s = \"Hello, World!\"\n",
    "li = [1, 2, 3]\n",
    "d = {\"key\": \"value\"}\n",
    "flag = True\n",
    "\n",
    "print(type(n))\n",
    "print(type(f))\n",
    "print(type(s))\n",
    "print(type(li))\n",
    "print(type(d))\n",
    "print(type(flag))"
   ]
  },
  {
   "cell_type": "markdown",
   "id": "86329324",
   "metadata": {},
   "source": [
    "### Ejercicio 6\n",
    "Declara variables de los tipos: `int`, `float`, `str`, `list`, `dict` y `bool`. Usa `type()` para imprimir el tipo de cada una."
   ]
  },
  {
   "cell_type": "code",
   "execution_count": 15,
   "id": "ecceaaa4",
   "metadata": {},
   "outputs": [
    {
     "name": "stdout",
     "output_type": "stream",
     "text": [
      "<class 'int'>\n",
      "<class 'tuple'>\n",
      "<class 'str'>\n",
      "<class 'list'>\n",
      "<class 'dict'>\n",
      "<class 'bool'>\n"
     ]
    }
   ],
   "source": [
    "# Escribe aquí tu código\n",
    "i = 34\n",
    "f = 5,23\n",
    "s = \"guillerito\"\n",
    "l = [1,2,3]\n",
    "d = {\"guillerito\" : \"gouda\"}\n",
    "bo = True\n",
    "print(type(i))\n",
    "print(type(f))\n",
    "print(type(s))\n",
    "print(type(l))\n",
    "print(type(d))  \n",
    "print(type(bo))"
   ]
  },
  {
   "cell_type": "markdown",
   "id": "6e0485ab",
   "metadata": {},
   "source": [
    "## 7️⃣ Referencia a objetos en Python\n",
    "Los nombres referencian objetos. Si dos nombres apuntan al mismo objeto **mutable**, un cambio será visible desde ambos."
   ]
  },
  {
   "cell_type": "code",
   "execution_count": 16,
   "id": "b370bacf",
   "metadata": {},
   "outputs": [
    {
     "name": "stdout",
     "output_type": "stream",
     "text": [
      "[1, 2, 3]\n",
      "10 11\n"
     ]
    }
   ],
   "source": [
    "# Ejemplo con lista (mutable)\n",
    "items = [1, 2]          # lista\n",
    "alias = items           # misma referencia\n",
    "alias.append(3)         # mutamos el objeto\n",
    "print(items)            # [1, 2, 3]\n",
    "\n",
    "# Ejemplo con enteros (inmutables)\n",
    "a = 10\n",
    "b = a\n",
    "b = b + 1               # crea un nuevo entero\n",
    "print(a, b)             # 10 11"
   ]
  },
  {
   "cell_type": "markdown",
   "id": "cee1282b",
   "metadata": {},
   "source": [
    "### Ejercicio 7\n",
    "Crea una lista con dos números y asígnala a dos variables diferentes. Modifica la lista desde una de ellas y observa el resultado en la otra."
   ]
  },
  {
   "cell_type": "code",
   "execution_count": 17,
   "id": "c6fa22f0",
   "metadata": {},
   "outputs": [
    {
     "name": "stdout",
     "output_type": "stream",
     "text": [
      "234 80028\n"
     ]
    }
   ],
   "source": [
    "# Escribe aquí tu código\n",
    "algo = 234\n",
    "otroAlgo = algo\n",
    "otroAlgo = otroAlgo *342\n",
    "print(algo, otroAlgo)"
   ]
  },
  {
   "cell_type": "markdown",
   "id": "9e7cc235",
   "metadata": {},
   "source": [
    "## 8️⃣ Eliminar variables con `del`\n",
    "`del nombre` elimina el **nombre** del espacio de nombres. Acceder después al nombre produce `NameError`."
   ]
  },
  {
   "cell_type": "code",
   "execution_count": null,
   "id": "31229be0",
   "metadata": {},
   "outputs": [],
   "source": [
    "# Ejemplo de del\n",
    "temp = 99\n",
    "print(temp)\n",
    "del temp\n",
    "# print(temp)  # provocaría NameError"
   ]
  },
  {
   "cell_type": "markdown",
   "id": "0da0cc45",
   "metadata": {},
   "source": [
    "### Ejercicio 8\n",
    "Crea una variable `temp`, imprímela, elimínala con `del` e intenta imprimirla de nuevo (comenta el error que se produce)."
   ]
  },
  {
   "cell_type": "code",
   "execution_count": null,
   "id": "835f319b",
   "metadata": {},
   "outputs": [
    {
     "name": "stdout",
     "output_type": "stream",
     "text": [
      "gouda\n"
     ]
    }
   ],
   "source": [
    "# Escribe aquí tu código\n",
    "guillerito = \"gouda\"\n",
    "print(guillerito)\n",
    "del guillerito\n",
    "print(guillerito) "
   ]
  },
  {
   "cell_type": "markdown",
   "id": "ae82943d",
   "metadata": {},
   "source": [
    "## 9️⃣ Ejemplos prácticos"
   ]
  },
  {
   "cell_type": "code",
   "execution_count": null,
   "id": "0e26ea7f",
   "metadata": {},
   "outputs": [],
   "source": [
    "# Swap de variables\n",
    "left, right = 5, 10\n",
    "left, right = right, left\n",
    "print(left, right)\n",
    "\n",
    "# Longitud de una cadena asignada a una variable\n",
    "word = \"Python\"\n",
    "length = len(word)\n",
    "print(\"Length of the word:\", length)"
   ]
  },
  {
   "cell_type": "markdown",
   "id": "cab332e0",
   "metadata": {},
   "source": [
    "### Ejercicio 9\n",
    "Crea dos variables con números y realiza un swap para intercambiar sus valores. Imprime el resultado."
   ]
  },
  {
   "cell_type": "code",
   "execution_count": 21,
   "id": "a15b74de",
   "metadata": {},
   "outputs": [
    {
     "name": "stdout",
     "output_type": "stream",
     "text": [
      "153235 342\n"
     ]
    }
   ],
   "source": [
    "# Escribe aquí tu código\n",
    "guillerito, paublito = 342, 153235\n",
    "guillerito, paublito = paublito, guillerito \n",
    "print(guillerito, paublito)"
   ]
  },
  {
   "cell_type": "markdown",
   "id": "ad2e302a",
   "metadata": {},
   "source": [
    "## 🔟 Ejemplos adicionales"
   ]
  },
  {
   "cell_type": "code",
   "execution_count": 22,
   "id": "0631dcd5",
   "metadata": {},
   "outputs": [
    {
     "name": "stdout",
     "output_type": "stream",
     "text": [
      "<class 'int'>\n",
      "<class 'str'>\n",
      "['a', 'b', 'c'] ['a', 'b', 'c'] ['a', 'b']\n",
      "localhost 8080 True\n"
     ]
    }
   ],
   "source": [
    "# Tipado dinámico\n",
    "value = 3\n",
    "print(type(value))\n",
    "value = \"three\"\n",
    "print(type(value))\n",
    "\n",
    "# Referencias compartidas\n",
    "letters = [\"a\", \"b\"]\n",
    "alias_letters = letters\n",
    "clone_letters = letters[:]\n",
    "alias_letters.append(\"c\")\n",
    "print(letters, alias_letters, clone_letters)\n",
    "\n",
    "# Asignación múltiple\n",
    "host, port, secure = \"localhost\", 8080, True\n",
    "print(host, port, secure)"
   ]
  },
  {
   "cell_type": "markdown",
   "id": "dd575adb",
   "metadata": {},
   "source": [
    "### Ejercicio 10\n",
    "Crea una variable `letters` con una lista de letras. Cópiala en `alias_letters` y en `clone_letters` (usando slicing). Añade un elemento desde `alias_letters` y observa cómo cambian las tres variables."
   ]
  },
  {
   "cell_type": "code",
   "execution_count": 34,
   "id": "ee245601",
   "metadata": {},
   "outputs": [
    {
     "name": "stdout",
     "output_type": "stream",
     "text": [
      "['a', 'b', 'c', 'd'] ['a', 'b', 'c', 'd'] ['a', 'b', 'c']\n"
     ]
    }
   ],
   "source": [
    "# Escribe aquí tu código\n",
    "letters = [\"a\", \"b\", \"c\"]\n",
    "alias_letters = letters\n",
    "clone_letters = letters[0:]\n",
    "alias_letters.append(\"d\")\n",
    "print(letters, alias_letters, clone_letters)"
   ]
  },
  {
   "cell_type": "markdown",
   "id": "f0703d9d",
   "metadata": {},
   "source": [
    "## ✍️ Ejercicio final\n",
    "Combina lo aprendido:\n",
    "1. Crea una variable `student` con tu nombre.\n",
    "2. Crea `age` con tu edad.\n",
    "3. Usa `print()` para mostrar un mensaje que combine ambas.\n",
    "4. Convierte `age` en cadena antes de concatenarla. "
   ]
  },
  {
   "cell_type": "code",
   "execution_count": 47,
   "id": "dc8aa717",
   "metadata": {},
   "outputs": [
    {
     "name": "stdout",
     "output_type": "stream",
     "text": [
      "Student Xulei is 17 years old.\n",
      "Student Xulei is 17 years old.\n"
     ]
    }
   ],
   "source": [
    "student = \"Xulei\"\n",
    "age = 17\n",
    "print(\"Student\", student, \"is\", age, \"years old.\")\n",
    "age1 = str(age)\n",
    "print(\"Student\", student, \"is\", age1, \"years old.\")"
   ]
  },
  {
   "cell_type": "markdown",
   "id": "aeef54b3",
   "metadata": {},
   "source": [
    "## 11 Raw strings en Python — Ejercicios\n",
    "\n",
    "En estos ejercicios practicaremos el uso de **raw strings** (`r\"...\"`) para evitar que Python interprete secuencias de escape (`\\n`, `\\t`, `\\\\`, etc.). \n",
    "\n",
    "Recuerda:\n",
    "- Un *raw string* **no procesa** las secuencias de escape.\n",
    "- No puede **terminar** con una barra invertida suelta (`\\`).\n",
    "- El delimitador de comillas **sigue cerrando** la cadena (usa el otro tipo de comillas o comillas triples si necesitas incluirlas dentro)."
   ]
  },
  {
   "cell_type": "markdown",
   "id": "49f2ef30",
   "metadata": {},
   "source": [
    "### Ejercicio 1 — Comparar cadena normal vs raw string (rutas Windows)\n",
    "\n",
    "Crea dos variables que representen la misma ruta de Windows:\n",
    "1) `path_normal` como cadena normal escapando barras.\n",
    "2) `path_raw` como raw string sin duplicar barras.\n",
    "\n",
    "Imprime ambas y verifica que la salida es idéntica: `C:\\Users\\Python`."
   ]
  },
  {
   "cell_type": "code",
   "execution_count": 5,
   "id": "b4cdbc97",
   "metadata": {},
   "outputs": [
    {
     "name": "stdout",
     "output_type": "stream",
     "text": [
      "C:\\new_folder\\test.txt\n",
      "C:\\new_folder\\test.txt\n"
     ]
    }
   ],
   "source": [
    "# Escribe aquí tu código\n",
    "# Crea path_normal (cadena normal) y path_raw (raw string) y muéstralas por pantalla\n",
    "path_normal = \"C:\\\\new_folder\\\\test.txt\"\n",
    "path_raw = r\"C:\\new_folder\\test.txt\"\n",
    "print(path_normal)\n",
    "print(path_raw)"
   ]
  },
  {
   "cell_type": "markdown",
   "id": "e1e004c3",
   "metadata": {},
   "source": [
    "### Ejercicio 2 — Secuencias de escape visibles\n",
    "\n",
    "Crea dos cadenas que contengan el texto `\\n` y `\\t`:\n",
    "- `escaped_text` como cadena normal para observar el salto de línea y tabulación.\n",
    "- `raw_text` como raw string para ver los caracteres `\\` y `n`, `\\` y `t` literalmente.\n",
    "\n",
    "(\\n es un salto de linea y \\t funciona como tabulador)\n",
    "\n",
    "Imprime cada una y comenta la diferencia visual."
   ]
  },
  {
   "cell_type": "code",
   "execution_count": null,
   "id": "099f1c1d",
   "metadata": {},
   "outputs": [
    {
     "name": "stdout",
     "output_type": "stream",
     "text": [
      "Hello,\n",
      "\tWorld!\n",
      "Hello,\\n\\tWorld!\n"
     ]
    }
   ],
   "source": [
    "# Escribe aquí tu solución\n",
    "# Muestra la diferencia entre una cadena normal y un raw string con \\n y \\t\n",
    "escaped_text = \"Hello,\\n\\tWorld!\"  # en escapado el \\n hace un salto de linea y \\t un tabulador\n",
    "raw_text = r\"Hello,\\n\\tWorld!\"      # en raw lo imprime literalmente\n",
    "print(escaped_text)\n",
    "print(raw_text)\n"
   ]
  },
  {
   "cell_type": "markdown",
   "id": "8517b4c6",
   "metadata": {},
   "source": [
    "### Ejercicio 3 — Expresiones  (patrones con backslashes)\n",
    "Supón que quieres un patrón que coincida con un número con prefijo `\\d+` (dígitos) y luego un literal de barra invertida `\\` seguido de la letra `n` (queremos ver `\\n` como dos caracteres, no salto de línea).\n",
    "\n",
    "1) Define `pattern_normal` SIN raw string y observa cuántos backslashes necesitas.\n",
    "2) Define `pattern_raw` usando `r\"...\"` para simplificar.\n",
    "3) Imprime ambos patrones para comprobar que representan la misma secuencia de caracteres."
   ]
  },
  {
   "cell_type": "code",
   "execution_count": null,
   "id": "5d88a676",
   "metadata": {},
   "outputs": [],
   "source": [
    "# Escribe aquí tu solución\n",
    "# Crea pattern_normal (cadena normal) y pattern_raw (raw string) que representen lo mismo y compáralos\n",
    "# NO SE HACE \n"
   ]
  },
  {
   "cell_type": "markdown",
   "id": "59d5aefe",
   "metadata": {},
   "source": [
    "### Ejercicio 4 — Error común: raw string terminando en backslash\n",
    "\n",
    "Intenta crear una ruta que termine en barra invertida (por ejemplo, `C:\\Temp\\`). \n",
    "1) Explica por qué `r\"C:\\Temp\\\"` da error de sintaxis.\n",
    "2) Muestra dos formas correctas de representarla:\n",
    "   - Duplicando la última barra en raw string: `r\"C:\\Temp\\\\\"`\n",
    "   - Usando cadena normal con escape adecuado: `\"C:\\\\Temp\\\\\"`\n",
    "3) Imprime ambas y verifica que la salida final termina en `\\`.\n",
    "\n"
   ]
  },
  {
   "cell_type": "code",
   "execution_count": null,
   "id": "7ef931b9",
   "metadata": {},
   "outputs": [
    {
     "name": "stdout",
     "output_type": "stream",
     "text": [
      "C:\\Temp\\\\\n",
      "C:\\Temp\\\\\n",
      "C:\\Temp\\\n"
     ]
    }
   ],
   "source": [
    "# Escribe aquí tu solución\n",
    "# Demuestra el error (comentado) y las dos formas correctas, imprimiendo el resultado final\n",
    "error_sintax = r\"C:\\Temp\\\" #no deja poner \\ al final en texto raw\n",
    "print(error_sintax)\n",
    "good_sintax = r\"C:\\Temp\\\\\" # si quiero poner \\ al final pongo doble \\\\ y al ser raw lo imprime de forma literal\n",
    "print(good_sintax)\n",
    "good_sintax2 = \"C:\\\\Temp\\\\\" # sin el raw si pones dobble \\\\ solo imprime una \\\n",
    "print(good_sintax2)"
   ]
  },
  {
   "cell_type": "markdown",
   "id": "c48e1308",
   "metadata": {},
   "source": [
    "## Ejercicio 5 — Comillas dentro de raw strings\n",
    "\n",
    "Queremos incluir comillas dobles en la cadena. Recuerda que en un raw string el delimitador **sigue cerrando** la cadena.\n",
    "1) Crea `text_ok_1` usando raw string con comillas simples como delimitador y comillas dobles dentro. r'texto \"ho\"'\n",
    "2) Crea `text_ok_2` usando comillas triples raw `r\"\"\"...\"\"\"` e incluye comillas dobles y simples dentro. r\"\"\" texto \"hola\" fin\"\"\"\n",
    "3) Explica por qué `r\"She said: \"hi\"\"` NO es válido como literal (no lo ejecutes).\n"
   ]
  },
  {
   "cell_type": "code",
   "execution_count": null,
   "id": "71fe45a6",
   "metadata": {},
   "outputs": [
    {
     "name": "stdout",
     "output_type": "stream",
     "text": [
      "texto \"hola\"\n",
      "texto 'hola'\n"
     ]
    }
   ],
   "source": [
    "# Escribe aquí tu solución\n",
    "# Crea text_ok_1 y text_ok_2, imprímelos y añade comentarios explicativos\n",
    "test_ok_1 = r'texto \"hola\"' #si quiero q el texto tenga doble comilla empiezo el texto con comilla simple\n",
    "print(test_ok_1)  \n",
    "test_ok_2 = r\"texto 'hola'\" #si quiero q el texto tenga comilla simple empiezo el texto con comilla doble\n",
    "print(test_ok_2)"
   ]
  },
  {
   "cell_type": "markdown",
   "id": "a564bee4",
   "metadata": {},
   "source": [
    "### Quiz final\n",
    "- ¿Qué imprime `print(r\"\\n\")`?  \n",
    "- ¿Se puede terminar un raw string con una barra invertida suelta? ¿Por qué?  \n",
    "- ¿Cómo incluir comillas dobles dentro de un raw string delimitado por comillas dobles?"
   ]
  },
  {
   "cell_type": "markdown",
   "id": "920ceafe",
   "metadata": {},
   "source": [
    "Responde aquí\n"
   ]
  }
 ],
 "metadata": {
  "kernelspec": {
   "display_name": ".venv",
   "language": "python",
   "name": "python3"
  },
  "language_info": {
   "codemirror_mode": {
    "name": "ipython",
    "version": 3
   },
   "file_extension": ".py",
   "mimetype": "text/x-python",
   "name": "python",
   "nbconvert_exporter": "python",
   "pygments_lexer": "ipython3",
   "version": "3.12.3"
  }
 },
 "nbformat": 4,
 "nbformat_minor": 5
}
